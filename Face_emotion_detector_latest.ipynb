{
 "cells": [
  {
   "cell_type": "code",
   "execution_count": 38,
   "id": "1dc73a55",
   "metadata": {},
   "outputs": [
    {
     "name": "stdout",
     "output_type": "stream",
     "text": [
      "Requirement already satisfied: opencv-python in f:\\anaconda\\lib\\site-packages (4.5.3.56)\n",
      "Requirement already satisfied: numpy>=1.17.3 in f:\\anaconda\\lib\\site-packages (from opencv-python) (1.19.5)\n",
      "Requirement already satisfied: tensorflow in f:\\anaconda\\lib\\site-packages (2.5.0)\n",
      "Requirement already satisfied: wrapt~=1.12.1 in f:\\anaconda\\lib\\site-packages (from tensorflow) (1.12.1)\n",
      "Requirement already satisfied: flatbuffers~=1.12.0 in f:\\anaconda\\lib\\site-packages (from tensorflow) (1.12)\n",
      "Requirement already satisfied: six~=1.15.0 in f:\\anaconda\\lib\\site-packages (from tensorflow) (1.15.0)\n",
      "Requirement already satisfied: gast==0.4.0 in f:\\anaconda\\lib\\site-packages (from tensorflow) (0.4.0)\n",
      "Requirement already satisfied: keras-nightly~=2.5.0.dev in f:\\anaconda\\lib\\site-packages (from tensorflow) (2.5.0.dev2021032900)\n",
      "Requirement already satisfied: h5py~=3.1.0 in f:\\anaconda\\lib\\site-packages (from tensorflow) (3.1.0)\n",
      "Requirement already satisfied: wheel~=0.35 in f:\\anaconda\\lib\\site-packages (from tensorflow) (0.36.2)\n",
      "Requirement already satisfied: absl-py~=0.10 in f:\\anaconda\\lib\\site-packages (from tensorflow) (0.13.0)\n",
      "Requirement already satisfied: opt-einsum~=3.3.0 in f:\\anaconda\\lib\\site-packages (from tensorflow) (3.3.0)\n",
      "Requirement already satisfied: typing-extensions~=3.7.4 in f:\\anaconda\\lib\\site-packages (from tensorflow) (3.7.4.3)\n",
      "Requirement already satisfied: termcolor~=1.1.0 in f:\\anaconda\\lib\\site-packages (from tensorflow) (1.1.0)\n",
      "Requirement already satisfied: google-pasta~=0.2 in f:\\anaconda\\lib\\site-packages (from tensorflow) (0.2.0)\n",
      "Requirement already satisfied: astunparse~=1.6.3 in f:\\anaconda\\lib\\site-packages (from tensorflow) (1.6.3)\n",
      "Requirement already satisfied: keras-preprocessing~=1.1.2 in f:\\anaconda\\lib\\site-packages (from tensorflow) (1.1.2)\n",
      "Requirement already satisfied: protobuf>=3.9.2 in f:\\anaconda\\lib\\site-packages (from tensorflow) (3.17.3)\n",
      "Requirement already satisfied: tensorflow-estimator<2.6.0,>=2.5.0rc0 in f:\\anaconda\\lib\\site-packages (from tensorflow) (2.5.0)\n",
      "Requirement already satisfied: numpy~=1.19.2 in f:\\anaconda\\lib\\site-packages (from tensorflow) (1.19.5)\n",
      "Requirement already satisfied: tensorboard~=2.5 in f:\\anaconda\\lib\\site-packages (from tensorflow) (2.5.0)\n",
      "Requirement already satisfied: grpcio~=1.34.0 in f:\\anaconda\\lib\\site-packages (from tensorflow) (1.34.1)\n",
      "Requirement already satisfied: tensorboard-data-server<0.7.0,>=0.6.0 in f:\\anaconda\\lib\\site-packages (from tensorboard~=2.5->tensorflow) (0.6.1)\n",
      "Requirement already satisfied: werkzeug>=0.11.15 in f:\\anaconda\\lib\\site-packages (from tensorboard~=2.5->tensorflow) (1.0.1)\n",
      "Requirement already satisfied: setuptools>=41.0.0 in f:\\anaconda\\lib\\site-packages (from tensorboard~=2.5->tensorflow) (52.0.0.post20210125)\n",
      "Requirement already satisfied: requests<3,>=2.21.0 in f:\\anaconda\\lib\\site-packages (from tensorboard~=2.5->tensorflow) (2.25.1)\n",
      "Requirement already satisfied: markdown>=2.6.8 in f:\\anaconda\\lib\\site-packages (from tensorboard~=2.5->tensorflow) (3.3.4)\n",
      "Requirement already satisfied: tensorboard-plugin-wit>=1.6.0 in f:\\anaconda\\lib\\site-packages (from tensorboard~=2.5->tensorflow) (1.8.0)\n",
      "Requirement already satisfied: google-auth-oauthlib<0.5,>=0.4.1 in f:\\anaconda\\lib\\site-packages (from tensorboard~=2.5->tensorflow) (0.4.4)\n",
      "Requirement already satisfied: google-auth<2,>=1.6.3 in f:\\anaconda\\lib\\site-packages (from tensorboard~=2.5->tensorflow) (1.33.0)\n",
      "Requirement already satisfied: rsa<5,>=3.1.4 in f:\\anaconda\\lib\\site-packages (from google-auth<2,>=1.6.3->tensorboard~=2.5->tensorflow) (4.7.2)\n",
      "Requirement already satisfied: cachetools<5.0,>=2.0.0 in f:\\anaconda\\lib\\site-packages (from google-auth<2,>=1.6.3->tensorboard~=2.5->tensorflow) (4.2.2)\n",
      "Requirement already satisfied: pyasn1-modules>=0.2.1 in f:\\anaconda\\lib\\site-packages (from google-auth<2,>=1.6.3->tensorboard~=2.5->tensorflow) (0.2.8)\n",
      "Requirement already satisfied: requests-oauthlib>=0.7.0 in f:\\anaconda\\lib\\site-packages (from google-auth-oauthlib<0.5,>=0.4.1->tensorboard~=2.5->tensorflow) (1.3.0)\n",
      "Requirement already satisfied: pyasn1<0.5.0,>=0.4.6 in f:\\anaconda\\lib\\site-packages (from pyasn1-modules>=0.2.1->google-auth<2,>=1.6.3->tensorboard~=2.5->tensorflow) (0.4.8)\n",
      "Requirement already satisfied: certifi>=2017.4.17 in f:\\anaconda\\lib\\site-packages (from requests<3,>=2.21.0->tensorboard~=2.5->tensorflow) (2020.12.5)\n",
      "Requirement already satisfied: chardet<5,>=3.0.2 in f:\\anaconda\\lib\\site-packages (from requests<3,>=2.21.0->tensorboard~=2.5->tensorflow) (4.0.0)\n",
      "Requirement already satisfied: urllib3<1.27,>=1.21.1 in f:\\anaconda\\lib\\site-packages (from requests<3,>=2.21.0->tensorboard~=2.5->tensorflow) (1.26.4)\n",
      "Requirement already satisfied: idna<3,>=2.5 in f:\\anaconda\\lib\\site-packages (from requests<3,>=2.21.0->tensorboard~=2.5->tensorflow) (2.10)\n",
      "Requirement already satisfied: oauthlib>=3.0.0 in f:\\anaconda\\lib\\site-packages (from requests-oauthlib>=0.7.0->google-auth-oauthlib<0.5,>=0.4.1->tensorboard~=2.5->tensorflow) (3.1.1)\n",
      "Requirement already satisfied: imblearn in f:\\anaconda\\lib\\site-packages (0.0)\n",
      "Requirement already satisfied: imbalanced-learn in f:\\anaconda\\lib\\site-packages (from imblearn) (0.8.0)\n",
      "Requirement already satisfied: numpy>=1.13.3 in f:\\anaconda\\lib\\site-packages (from imbalanced-learn->imblearn) (1.19.5)\n",
      "Requirement already satisfied: joblib>=0.11 in f:\\anaconda\\lib\\site-packages (from imbalanced-learn->imblearn) (1.0.1)\n",
      "Requirement already satisfied: scipy>=0.19.1 in f:\\anaconda\\lib\\site-packages (from imbalanced-learn->imblearn) (1.6.2)\n",
      "Requirement already satisfied: scikit-learn>=0.24 in f:\\anaconda\\lib\\site-packages (from imbalanced-learn->imblearn) (0.24.1)\n",
      "Requirement already satisfied: threadpoolctl>=2.0.0 in f:\\anaconda\\lib\\site-packages (from scikit-learn>=0.24->imbalanced-learn->imblearn) (2.1.0)\n"
     ]
    }
   ],
   "source": [
    "!pip install opencv-python\n",
    "!pip install tensorflow\n",
    "!pip install imblearn"
   ]
  },
  {
   "cell_type": "code",
   "execution_count": 39,
   "id": "e1ad77d7",
   "metadata": {},
   "outputs": [],
   "source": [
    "import numpy as np\n",
    "import cv2 as cv\n",
    "import os\n",
    "import matplotlib.pyplot as plt\n",
    "import tensorflow as tf"
   ]
  },
  {
   "cell_type": "markdown",
   "id": "534806c3",
   "metadata": {},
   "source": [
    "### set the labels"
   ]
  },
  {
   "cell_type": "code",
   "execution_count": 40,
   "id": "df064e57",
   "metadata": {},
   "outputs": [],
   "source": [
    "emotions = [\"angry\",\"fear\",\"happy\",\"neutral\",\"sad\",\"surprise\"]"
   ]
  },
  {
   "cell_type": "markdown",
   "id": "10104209",
   "metadata": {},
   "source": [
    "#### path for training data"
   ]
  },
  {
   "cell_type": "code",
   "execution_count": 41,
   "id": "1bc98de2",
   "metadata": {},
   "outputs": [],
   "source": [
    "dataset_dir = \"./train\""
   ]
  },
  {
   "cell_type": "markdown",
   "id": "39c990d9",
   "metadata": {},
   "source": [
    "### visualizing the data"
   ]
  },
  {
   "cell_type": "code",
   "execution_count": 42,
   "id": "886b3f61",
   "metadata": {
    "scrolled": true
   },
   "outputs": [
    {
     "data": {
      "image/png": "[encoded data removed]",
      "text/plain": [
       "<Figure size 432x288 with 1 Axes>"
      ]
     },
     "metadata": {
      "needs_background": "light"
     },
     "output_type": "display_data"
    },
    {
     "data": {
      "image/png": "[encoded data removed]",
      "text/plain": [
       "<Figure size 432x288 with 1 Axes>"
      ]
     },
     "metadata": {
      "needs_background": "light"
     },
     "output_type": "display_data"
    },
    {
     "data": {
      "image/png": "[encoded data removed]",
      "text/plain": [
       "<Figure size 432x288 with 1 Axes>"
      ]
     },
     "metadata": {
      "needs_background": "light"
     },
     "output_type": "display_data"
    },
    {
     "data": {
      "image/png": "[encoded data removed]",
      "text/plain": [
       "<Figure size 432x288 with 1 Axes>"
      ]
     },
     "metadata": {
      "needs_background": "light"
     },
     "output_type": "display_data"
    },
    {
     "data": {
      "image/png": "[encoded data removed]",
      "text/plain": [
       "<Figure size 432x288 with 1 Axes>"
      ]
     },
     "metadata": {
      "needs_background": "light"
     },
     "output_type": "display_data"
    },
    {
     "data": {
      "image/png": "[encoded data removed]",
      "text/plain": [
       "<Figure size 432x288 with 1 Axes>"
      ]
     },
     "metadata": {
      "needs_background": "light"
     },
     "output_type": "display_data"
    }
   ],
   "source": [
    "for emotion in emotions:\n",
    "    path = os.path.join(dataset_dir,emotion)\n",
    "    for img in os.listdir(path):\n",
    "        img_array = cv.imread(os.path.join(path,img))\n",
    "        plt.imshow(cv.cvtColor(img_array,cv.COLOR_BGR2RGB))\n",
    "        plt.title(emotion, fontsize=15)\n",
    "        plt.show()\n",
    "        break        "
   ]
  },
  {
   "cell_type": "markdown",
   "id": "75d3e08b",
   "metadata": {},
   "source": [
    "## read through all the images and converting them to array"
   ]
  },
  {
   "cell_type": "code",
   "execution_count": 43,
   "id": "9ca6c6f6",
   "metadata": {},
   "outputs": [],
   "source": [
    "training_data = []\n",
    "\n",
    "def create_training_data():\n",
    "    for emotion in emotions:\n",
    "        path = os.path.join(dataset_dir,emotion)\n",
    "        class_label = emotions.index(emotion)\n",
    "        for img in os.listdir(path):\n",
    "            img_array = cv.imread(os.path.join(path,img))\n",
    "            training_data.append([img_array,class_label])\n",
    "            "
   ]
  },
  {
   "cell_type": "code",
   "execution_count": 44,
   "id": "8d06ffa6",
   "metadata": {},
   "outputs": [],
   "source": [
    "create_training_data()"
   ]
  },
  {
   "cell_type": "code",
   "execution_count": 45,
   "id": "79acec6f",
   "metadata": {
    "scrolled": true
   },
   "outputs": [
    {
     "name": "stdout",
     "output_type": "stream",
     "text": [
      "28273\n"
     ]
    }
   ],
   "source": [
    "print(len(training_data))"
   ]
  },
  {
   "cell_type": "code",
   "execution_count": 46,
   "id": "959becc3",
   "metadata": {},
   "outputs": [],
   "source": [
    "import random\n",
    "random.shuffle(training_data)"
   ]
  },
  {
   "cell_type": "markdown",
   "id": "fb88fdf8",
   "metadata": {},
   "source": [
    "### Creating the features and labels"
   ]
  },
  {
   "cell_type": "code",
   "execution_count": 47,
   "id": "c33b6c15",
   "metadata": {},
   "outputs": [],
   "source": [
    "X = [] ##feature\n",
    "y = [] ##labels\n",
    "\n",
    "for features, label in training_data:\n",
    "    X.append(features)\n",
    "    y.append(label)\n",
    "\n",
    "X = np.array(X).reshape(-1,48,48,3)"
   ]
  },
  {
   "cell_type": "markdown",
   "id": "3ce938db",
   "metadata": {},
   "source": [
    "### Preprocessing"
   ]
  },
  {
   "cell_type": "code",
   "execution_count": 48,
   "id": "7389cd77",
   "metadata": {},
   "outputs": [
    {
     "data": {
      "text/plain": [
       "(28273, 48, 48, 3)"
      ]
     },
     "execution_count": 48,
     "metadata": {},
     "output_type": "execute_result"
    }
   ],
   "source": [
    "X.shape"
   ]
  },
  {
   "cell_type": "code",
   "execution_count": 49,
   "id": "165c5bfa",
   "metadata": {
    "scrolled": true
   },
   "outputs": [
    {
     "data": {
      "text/plain": [
       "dtype('uint8')"
      ]
     },
     "execution_count": 49,
     "metadata": {},
     "output_type": "execute_result"
    }
   ],
   "source": [
    "X = X.astype(np.uint8)\n",
    "X.dtype"
   ]
  },
  {
   "cell_type": "code",
   "execution_count": 50,
   "id": "64d75060",
   "metadata": {
    "scrolled": false
   },
   "outputs": [
    {
     "data": {
      "text/plain": [
       "28273"
      ]
     },
     "execution_count": 50,
     "metadata": {},
     "output_type": "execute_result"
    }
   ],
   "source": [
    "len(y)"
   ]
  },
  {
   "cell_type": "code",
   "execution_count": 51,
   "id": "77242fdd",
   "metadata": {},
   "outputs": [],
   "source": [
    "y = np.array(y)"
   ]
  },
  {
   "cell_type": "code",
   "execution_count": 52,
   "id": "b6ef2822",
   "metadata": {},
   "outputs": [
    {
     "data": {
      "text/plain": [
       "dtype('uint8')"
      ]
     },
     "execution_count": 52,
     "metadata": {},
     "output_type": "execute_result"
    }
   ],
   "source": [
    "y = y.astype(np.uint8)\n",
    "y.dtype"
   ]
  },
  {
   "cell_type": "code",
   "execution_count": 53,
   "id": "7dab5ca1",
   "metadata": {},
   "outputs": [
    {
     "data": {
      "text/plain": [
       "array([2, 2, 5, 3, 3], dtype=uint8)"
      ]
     },
     "execution_count": 53,
     "metadata": {},
     "output_type": "execute_result"
    }
   ],
   "source": [
    "y[:5]"
   ]
  },
  {
   "cell_type": "code",
   "execution_count": 54,
   "id": "f9cabf2f",
   "metadata": {
    "scrolled": true
   },
   "outputs": [
    {
     "data": {
      "text/plain": [
       "array([[[[0.90980392, 0.90980392, 0.90980392],\n",
       "         [0.92156863, 0.92156863, 0.92156863],\n",
       "         [0.8745098 , 0.8745098 , 0.8745098 ],\n",
       "         ...,\n",
       "         [0.90588235, 0.90588235, 0.90588235],\n",
       "         [0.90980392, 0.90980392, 0.90980392],\n",
       "         [0.91372549, 0.91372549, 0.91372549]],\n",
       "\n",
       "        [[0.90588235, 0.90588235, 0.90588235],\n",
       "         [0.95294118, 0.95294118, 0.95294118],\n",
       "         [0.55294118, 0.55294118, 0.55294118],\n",
       "         ...,\n",
       "         [0.89803922, 0.89803922, 0.89803922],\n",
       "         [0.90588235, 0.90588235, 0.90588235],\n",
       "         [0.90196078, 0.90196078, 0.90196078]],\n",
       "\n",
       "        [[0.94117647, 0.94117647, 0.94117647],\n",
       "         [0.76862745, 0.76862745, 0.76862745],\n",
       "         [0.2627451 , 0.2627451 , 0.2627451 ],\n",
       "         ...,\n",
       "         [0.90980392, 0.90980392, 0.90980392],\n",
       "         [0.91372549, 0.91372549, 0.91372549],\n",
       "         [0.90588235, 0.90588235, 0.90588235]],\n",
       "\n",
       "        ...,\n",
       "\n",
       "        [[0.92156863, 0.92156863, 0.92156863],\n",
       "         [0.91764706, 0.91764706, 0.91764706],\n",
       "         [0.9254902 , 0.9254902 , 0.9254902 ],\n",
       "         ...,\n",
       "         [0.90980392, 0.90980392, 0.90980392],\n",
       "         [0.92156863, 0.92156863, 0.92156863],\n",
       "         [0.91372549, 0.91372549, 0.91372549]],\n",
       "\n",
       "        [[0.91372549, 0.91372549, 0.91372549],\n",
       "         [0.9254902 , 0.9254902 , 0.9254902 ],\n",
       "         [0.92156863, 0.92156863, 0.92156863],\n",
       "         ...,\n",
       "         [0.91764706, 0.91764706, 0.91764706],\n",
       "         [0.91764706, 0.91764706, 0.91764706],\n",
       "         [0.90196078, 0.90196078, 0.90196078]],\n",
       "\n",
       "        [[0.92156863, 0.92156863, 0.92156863],\n",
       "         [0.9254902 , 0.9254902 , 0.9254902 ],\n",
       "         [0.92156863, 0.92156863, 0.92156863],\n",
       "         ...,\n",
       "         [0.90980392, 0.90980392, 0.90980392],\n",
       "         [0.90588235, 0.90588235, 0.90588235],\n",
       "         [0.92156863, 0.92156863, 0.92156863]]],\n",
       "\n",
       "\n",
       "       [[[0.28627451, 0.28627451, 0.28627451],\n",
       "         [0.27843137, 0.27843137, 0.27843137],\n",
       "         [0.29019608, 0.29019608, 0.29019608],\n",
       "         ...,\n",
       "         [0.27843137, 0.27843137, 0.27843137],\n",
       "         [0.28235294, 0.28235294, 0.28235294],\n",
       "         [0.27843137, 0.27843137, 0.27843137]],\n",
       "\n",
       "        [[0.28235294, 0.28235294, 0.28235294],\n",
       "         [0.27058824, 0.27058824, 0.27058824],\n",
       "         [0.30980392, 0.30980392, 0.30980392],\n",
       "         ...,\n",
       "         [0.25882353, 0.25882353, 0.25882353],\n",
       "         [0.28235294, 0.28235294, 0.28235294],\n",
       "         [0.2745098 , 0.2745098 , 0.2745098 ]],\n",
       "\n",
       "        [[0.29411765, 0.29411765, 0.29411765],\n",
       "         [0.28235294, 0.28235294, 0.28235294],\n",
       "         [0.28627451, 0.28627451, 0.28627451],\n",
       "         ...,\n",
       "         [0.30196078, 0.30196078, 0.30196078],\n",
       "         [0.26666667, 0.26666667, 0.26666667],\n",
       "         [0.27058824, 0.27058824, 0.27058824]],\n",
       "\n",
       "        ...,\n",
       "\n",
       "        [[0.79215686, 0.79215686, 0.79215686],\n",
       "         [0.79215686, 0.79215686, 0.79215686],\n",
       "         [0.83137255, 0.83137255, 0.83137255],\n",
       "         ...,\n",
       "         [0.3254902 , 0.3254902 , 0.3254902 ],\n",
       "         [0.39215686, 0.39215686, 0.39215686],\n",
       "         [0.38431373, 0.38431373, 0.38431373]],\n",
       "\n",
       "        [[0.80784314, 0.80784314, 0.80784314],\n",
       "         [0.79607843, 0.79607843, 0.79607843],\n",
       "         [0.83137255, 0.83137255, 0.83137255],\n",
       "         ...,\n",
       "         [0.31372549, 0.31372549, 0.31372549],\n",
       "         [0.35294118, 0.35294118, 0.35294118],\n",
       "         [0.35686275, 0.35686275, 0.35686275]],\n",
       "\n",
       "        [[0.83137255, 0.83137255, 0.83137255],\n",
       "         [0.76470588, 0.76470588, 0.76470588],\n",
       "         [0.81568627, 0.81568627, 0.81568627],\n",
       "         ...,\n",
       "         [0.25490196, 0.25490196, 0.25490196],\n",
       "         [0.27843137, 0.27843137, 0.27843137],\n",
       "         [0.33333333, 0.33333333, 0.33333333]]],\n",
       "\n",
       "\n",
       "       [[[0.68235294, 0.68235294, 0.68235294],\n",
       "         [0.70196078, 0.70196078, 0.70196078],\n",
       "         [0.71372549, 0.71372549, 0.71372549],\n",
       "         ...,\n",
       "         [0.69803922, 0.69803922, 0.69803922],\n",
       "         [0.69411765, 0.69411765, 0.69411765],\n",
       "         [0.76470588, 0.76470588, 0.76470588]],\n",
       "\n",
       "        [[0.69411765, 0.69411765, 0.69411765],\n",
       "         [0.69019608, 0.69019608, 0.69019608],\n",
       "         [0.70588235, 0.70588235, 0.70588235],\n",
       "         ...,\n",
       "         [0.71372549, 0.71372549, 0.71372549],\n",
       "         [0.69411765, 0.69411765, 0.69411765],\n",
       "         [0.70196078, 0.70196078, 0.70196078]],\n",
       "\n",
       "        [[0.70980392, 0.70980392, 0.70980392],\n",
       "         [0.71372549, 0.71372549, 0.71372549],\n",
       "         [0.70980392, 0.70980392, 0.70980392],\n",
       "         ...,\n",
       "         [0.70980392, 0.70980392, 0.70980392],\n",
       "         [0.70588235, 0.70588235, 0.70588235],\n",
       "         [0.70196078, 0.70196078, 0.70196078]],\n",
       "\n",
       "        ...,\n",
       "\n",
       "        [[0.15294118, 0.15294118, 0.15294118],\n",
       "         [0.19607843, 0.19607843, 0.19607843],\n",
       "         [0.44313725, 0.44313725, 0.44313725],\n",
       "         ...,\n",
       "         [0.18823529, 0.18823529, 0.18823529],\n",
       "         [0.15686275, 0.15686275, 0.15686275],\n",
       "         [0.14117647, 0.14117647, 0.14117647]],\n",
       "\n",
       "        [[0.14901961, 0.14901961, 0.14901961],\n",
       "         [0.18039216, 0.18039216, 0.18039216],\n",
       "         [0.14901961, 0.14901961, 0.14901961],\n",
       "         ...,\n",
       "         [0.13333333, 0.13333333, 0.13333333],\n",
       "         [0.15294118, 0.15294118, 0.15294118],\n",
       "         [0.14509804, 0.14509804, 0.14509804]],\n",
       "\n",
       "        [[0.14901961, 0.14901961, 0.14901961],\n",
       "         [0.16470588, 0.16470588, 0.16470588],\n",
       "         [0.23529412, 0.23529412, 0.23529412],\n",
       "         ...,\n",
       "         [0.1254902 , 0.1254902 , 0.1254902 ],\n",
       "         [0.14509804, 0.14509804, 0.14509804],\n",
       "         [0.1254902 , 0.1254902 , 0.1254902 ]]],\n",
       "\n",
       "\n",
       "       [[[0.17647059, 0.17647059, 0.17647059],\n",
       "         [0.18039216, 0.18039216, 0.18039216],\n",
       "         [0.18039216, 0.18039216, 0.18039216],\n",
       "         ...,\n",
       "         [0.53333333, 0.53333333, 0.53333333],\n",
       "         [0.45098039, 0.45098039, 0.45098039],\n",
       "         [0.36470588, 0.36470588, 0.36470588]],\n",
       "\n",
       "        [[0.18039216, 0.18039216, 0.18039216],\n",
       "         [0.18431373, 0.18431373, 0.18431373],\n",
       "         [0.18431373, 0.18431373, 0.18431373],\n",
       "         ...,\n",
       "         [0.49803922, 0.49803922, 0.49803922],\n",
       "         [0.43529412, 0.43529412, 0.43529412],\n",
       "         [0.35294118, 0.35294118, 0.35294118]],\n",
       "\n",
       "        [[0.18039216, 0.18039216, 0.18039216],\n",
       "         [0.18431373, 0.18431373, 0.18431373],\n",
       "         [0.18431373, 0.18431373, 0.18431373],\n",
       "         ...,\n",
       "         [0.45882353, 0.45882353, 0.45882353],\n",
       "         [0.40784314, 0.40784314, 0.40784314],\n",
       "         [0.3254902 , 0.3254902 , 0.3254902 ]],\n",
       "\n",
       "        ...,\n",
       "\n",
       "        [[0.25490196, 0.25490196, 0.25490196],\n",
       "         [0.25882353, 0.25882353, 0.25882353],\n",
       "         [0.25490196, 0.25490196, 0.25490196],\n",
       "         ...,\n",
       "         [0.10980392, 0.10980392, 0.10980392],\n",
       "         [0.09803922, 0.09803922, 0.09803922],\n",
       "         [0.09411765, 0.09411765, 0.09411765]],\n",
       "\n",
       "        [[0.25490196, 0.25490196, 0.25490196],\n",
       "         [0.25882353, 0.25882353, 0.25882353],\n",
       "         [0.25490196, 0.25490196, 0.25490196],\n",
       "         ...,\n",
       "         [0.12156863, 0.12156863, 0.12156863],\n",
       "         [0.10980392, 0.10980392, 0.10980392],\n",
       "         [0.10196078, 0.10196078, 0.10196078]],\n",
       "\n",
       "        [[0.25098039, 0.25098039, 0.25098039],\n",
       "         [0.25882353, 0.25882353, 0.25882353],\n",
       "         [0.25490196, 0.25490196, 0.25490196],\n",
       "         ...,\n",
       "         [0.13333333, 0.13333333, 0.13333333],\n",
       "         [0.12156863, 0.12156863, 0.12156863],\n",
       "         [0.10588235, 0.10588235, 0.10588235]]],\n",
       "\n",
       "\n",
       "       [[[0.53333333, 0.53333333, 0.53333333],\n",
       "         [0.34117647, 0.34117647, 0.34117647],\n",
       "         [0.22745098, 0.22745098, 0.22745098],\n",
       "         ...,\n",
       "         [0.48235294, 0.48235294, 0.48235294],\n",
       "         [0.48235294, 0.48235294, 0.48235294],\n",
       "         [0.47058824, 0.47058824, 0.47058824]],\n",
       "\n",
       "        [[0.50588235, 0.50588235, 0.50588235],\n",
       "         [0.28627451, 0.28627451, 0.28627451],\n",
       "         [0.27058824, 0.27058824, 0.27058824],\n",
       "         ...,\n",
       "         [0.47843137, 0.47843137, 0.47843137],\n",
       "         [0.46666667, 0.46666667, 0.46666667],\n",
       "         [0.4745098 , 0.4745098 , 0.4745098 ]],\n",
       "\n",
       "        [[0.45490196, 0.45490196, 0.45490196],\n",
       "         [0.23529412, 0.23529412, 0.23529412],\n",
       "         [0.30196078, 0.30196078, 0.30196078],\n",
       "         ...,\n",
       "         [0.4745098 , 0.4745098 , 0.4745098 ],\n",
       "         [0.47058824, 0.47058824, 0.47058824],\n",
       "         [0.4627451 , 0.4627451 , 0.4627451 ]],\n",
       "\n",
       "        ...,\n",
       "\n",
       "        [[0.35686275, 0.35686275, 0.35686275],\n",
       "         [0.35686275, 0.35686275, 0.35686275],\n",
       "         [0.34509804, 0.34509804, 0.34509804],\n",
       "         ...,\n",
       "         [0.34509804, 0.34509804, 0.34509804],\n",
       "         [0.33333333, 0.33333333, 0.33333333],\n",
       "         [0.36078431, 0.36078431, 0.36078431]],\n",
       "\n",
       "        [[0.34509804, 0.34509804, 0.34509804],\n",
       "         [0.3372549 , 0.3372549 , 0.3372549 ],\n",
       "         [0.35294118, 0.35294118, 0.35294118],\n",
       "         ...,\n",
       "         [0.45882353, 0.45882353, 0.45882353],\n",
       "         [0.32156863, 0.32156863, 0.32156863],\n",
       "         [0.33333333, 0.33333333, 0.33333333]],\n",
       "\n",
       "        [[0.34901961, 0.34901961, 0.34901961],\n",
       "         [0.36470588, 0.36470588, 0.36470588],\n",
       "         [0.36078431, 0.36078431, 0.36078431],\n",
       "         ...,\n",
       "         [0.74901961, 0.74901961, 0.74901961],\n",
       "         [0.60784314, 0.60784314, 0.60784314],\n",
       "         [0.40392157, 0.40392157, 0.40392157]]]])"
      ]
     },
     "execution_count": 54,
     "metadata": {},
     "output_type": "execute_result"
    }
   ],
   "source": [
    "X_rescaled = X/255\n",
    "X_rescaled[:5]"
   ]
  },
  {
   "cell_type": "markdown",
   "id": "66dc8ddc",
   "metadata": {},
   "source": [
    "## Model Creation and Training"
   ]
  },
  {
   "cell_type": "code",
   "execution_count": 72,
   "id": "2d1c5b67",
   "metadata": {},
   "outputs": [],
   "source": [
    "from tensorflow import keras"
   ]
  },
  {
   "cell_type": "code",
   "execution_count": 56,
   "id": "8379f7bd",
   "metadata": {
    "scrolled": true
   },
   "outputs": [
    {
     "name": "stdout",
     "output_type": "stream",
     "text": [
      "Epoch 1/50\n",
      "884/884 [==============================] - 10s 11ms/step - loss: 1.6590 - accuracy: 0.3113\n",
      "Epoch 2/50\n",
      "884/884 [==============================] - 10s 11ms/step - loss: 1.3434 - accuracy: 0.4723\n",
      "Epoch 3/50\n",
      "884/884 [==============================] - 10s 11ms/step - loss: 1.2178 - accuracy: 0.5254\n",
      "Epoch 4/50\n",
      "884/884 [==============================] - 9s 11ms/step - loss: 1.1468 - accuracy: 0.5553\n",
      "Epoch 5/50\n",
      "884/884 [==============================] - 9s 11ms/step - loss: 1.0879 - accuracy: 0.5794\n",
      "Epoch 6/50\n",
      "884/884 [==============================] - 9s 11ms/step - loss: 1.0346 - accuracy: 0.6008\n",
      "Epoch 7/50\n",
      "884/884 [==============================] - 9s 11ms/step - loss: 0.9953 - accuracy: 0.6176\n",
      "Epoch 8/50\n",
      "884/884 [==============================] - 9s 11ms/step - loss: 0.9512 - accuracy: 0.6373\n",
      "Epoch 9/50\n",
      "884/884 [==============================] - 9s 11ms/step - loss: 0.9108 - accuracy: 0.6530\n",
      "Epoch 10/50\n",
      "884/884 [==============================] - 9s 11ms/step - loss: 0.8711 - accuracy: 0.6717\n",
      "Epoch 11/50\n",
      "884/884 [==============================] - 9s 11ms/step - loss: 0.8289 - accuracy: 0.6856\n",
      "Epoch 12/50\n",
      "884/884 [==============================] - 9s 11ms/step - loss: 0.7966 - accuracy: 0.6977\n",
      "Epoch 13/50\n",
      "884/884 [==============================] - 9s 11ms/step - loss: 0.7447 - accuracy: 0.7192\n",
      "Epoch 14/50\n",
      "884/884 [==============================] - 10s 11ms/step - loss: 0.7163 - accuracy: 0.7312\n",
      "Epoch 15/50\n",
      "884/884 [==============================] - 10s 11ms/step - loss: 0.6923 - accuracy: 0.7393\n",
      "Epoch 16/50\n",
      "884/884 [==============================] - 10s 11ms/step - loss: 0.6581 - accuracy: 0.7508\n",
      "Epoch 17/50\n",
      "884/884 [==============================] - 10s 11ms/step - loss: 0.6259 - accuracy: 0.7691\n",
      "Epoch 18/50\n",
      "884/884 [==============================] - 10s 11ms/step - loss: 0.6054 - accuracy: 0.7754\n",
      "Epoch 19/50\n",
      "884/884 [==============================] - 10s 11ms/step - loss: 0.5795 - accuracy: 0.7833\n",
      "Epoch 20/50\n",
      "884/884 [==============================] - 10s 11ms/step - loss: 0.5588 - accuracy: 0.7951\n",
      "Epoch 21/50\n",
      "884/884 [==============================] - 10s 11ms/step - loss: 0.5359 - accuracy: 0.8027\n",
      "Epoch 22/50\n",
      "884/884 [==============================] - 10s 11ms/step - loss: 0.5183 - accuracy: 0.8118\n",
      "Epoch 23/50\n",
      "884/884 [==============================] - 10s 11ms/step - loss: 0.5140 - accuracy: 0.8133\n",
      "Epoch 24/50\n",
      "884/884 [==============================] - 10s 11ms/step - loss: 0.4860 - accuracy: 0.8257\n",
      "Epoch 25/50\n",
      "884/884 [==============================] - 10s 11ms/step - loss: 0.4699 - accuracy: 0.8300\n",
      "Epoch 26/50\n",
      "884/884 [==============================] - 10s 11ms/step - loss: 0.4571 - accuracy: 0.8347\n",
      "Epoch 27/50\n",
      "884/884 [==============================] - 10s 11ms/step - loss: 0.4429 - accuracy: 0.8404\n",
      "Epoch 28/50\n",
      "884/884 [==============================] - 10s 11ms/step - loss: 0.4316 - accuracy: 0.8438\n",
      "Epoch 29/50\n",
      "884/884 [==============================] - 10s 11ms/step - loss: 0.4289 - accuracy: 0.8468\n",
      "Epoch 30/50\n",
      "884/884 [==============================] - 10s 11ms/step - loss: 0.4122 - accuracy: 0.8524\n",
      "Epoch 31/50\n",
      "884/884 [==============================] - 10s 11ms/step - loss: 0.4037 - accuracy: 0.8585\n",
      "Epoch 32/50\n",
      "884/884 [==============================] - 10s 11ms/step - loss: 0.3975 - accuracy: 0.8592\n",
      "Epoch 33/50\n",
      "884/884 [==============================] - 10s 11ms/step - loss: 0.3872 - accuracy: 0.8637\n",
      "Epoch 34/50\n",
      "884/884 [==============================] - 10s 11ms/step - loss: 0.3823 - accuracy: 0.8662\n",
      "Epoch 35/50\n",
      "884/884 [==============================] - 10s 11ms/step - loss: 0.3729 - accuracy: 0.8701\n",
      "Epoch 36/50\n",
      "884/884 [==============================] - 9s 11ms/step - loss: 0.3763 - accuracy: 0.8690\n",
      "Epoch 37/50\n",
      "884/884 [==============================] - 10s 11ms/step - loss: 0.3553 - accuracy: 0.8762\n",
      "Epoch 38/50\n",
      "884/884 [==============================] - 10s 11ms/step - loss: 0.3576 - accuracy: 0.8766\n",
      "Epoch 39/50\n",
      "884/884 [==============================] - 10s 11ms/step - loss: 0.3543 - accuracy: 0.8789\n",
      "Epoch 40/50\n",
      "884/884 [==============================] - 10s 11ms/step - loss: 0.3561 - accuracy: 0.8802\n",
      "Epoch 41/50\n",
      "884/884 [==============================] - 10s 11ms/step - loss: 0.3315 - accuracy: 0.8865\n",
      "Epoch 42/50\n",
      "884/884 [==============================] - 10s 11ms/step - loss: 0.3348 - accuracy: 0.8848\n",
      "Epoch 43/50\n",
      "884/884 [==============================] - 10s 11ms/step - loss: 0.3275 - accuracy: 0.8874\n",
      "Epoch 44/50\n",
      "884/884 [==============================] - 10s 11ms/step - loss: 0.3182 - accuracy: 0.8914\n",
      "Epoch 45/50\n",
      "884/884 [==============================] - 10s 11ms/step - loss: 0.3226 - accuracy: 0.8893\n",
      "Epoch 46/50\n",
      "884/884 [==============================] - 10s 11ms/step - loss: 0.3222 - accuracy: 0.8904\n",
      "Epoch 47/50\n",
      "884/884 [==============================] - 10s 11ms/step - loss: 0.3151 - accuracy: 0.8929\n",
      "Epoch 48/50\n",
      "884/884 [==============================] - 10s 11ms/step - loss: 0.3013 - accuracy: 0.8981\n",
      "Epoch 49/50\n",
      "884/884 [==============================] - 10s 11ms/step - loss: 0.3039 - accuracy: 0.8969\n",
      "Epoch 50/50\n",
      "884/884 [==============================] - 10s 11ms/step - loss: 0.2926 - accuracy: 0.8980\n"
     ]
    },
    {
     "data": {
      "text/plain": [
       "<tensorflow.python.keras.callbacks.History at 0x1a3a607ce80>"
      ]
     },
     "execution_count": 56,
     "metadata": {},
     "output_type": "execute_result"
    }
   ],
   "source": [
    "model = keras.Sequential([\n",
    "    keras.layers.Conv2D(32, (3,3),activation='relu', padding='same',input_shape=(48, 48,3)),\n",
    "    keras.layers.Conv2D(32, (3,3),activation='relu', padding='same'),\n",
    "    keras.layers.MaxPooling2D((2, 2)),\n",
    "    keras.layers.Dropout(0.25),\n",
    "    \n",
    "    keras.layers.Conv2D(128, (5,5),activation='relu',padding='same'),\n",
    "    keras.layers.MaxPooling2D((2, 2)),\n",
    "    keras.layers.Conv2D(128, (5,5),activation='relu',padding='same'),\n",
    "    keras.layers.MaxPooling2D((2, 2)),\n",
    "    keras.layers.Dropout(0.25),\n",
    "\n",
    "    keras.layers.Flatten(),\n",
    "    keras.layers.Dense(1024, activation='relu'),\n",
    "    keras.layers.Dropout(0.5),\n",
    "    keras.layers.Dense(len(emotions), activation='softmax')\n",
    "])\n",
    "\n",
    "model.compile(optimizer='adam',\n",
    "             loss = 'sparse_categorical_crossentropy',\n",
    "             metrics='accuracy')\n",
    "\n",
    "model.fit(X_rescaled,y,epochs=50)"
   ]
  },
  {
   "cell_type": "markdown",
   "id": "6c962588",
   "metadata": {},
   "source": [
    "## Creating Test Dataset"
   ]
  },
  {
   "cell_type": "code",
   "execution_count": 57,
   "id": "845068c5",
   "metadata": {},
   "outputs": [],
   "source": [
    "dataset_test_dir = \"./test\""
   ]
  },
  {
   "cell_type": "code",
   "execution_count": 58,
   "id": "62536581",
   "metadata": {},
   "outputs": [],
   "source": [
    "test_data = []\n",
    "\n",
    "def create_test_data():\n",
    "    for emotion in emotions:\n",
    "        path = os.path.join(dataset_test_dir,emotion)\n",
    "        class_label = emotions.index(emotion)\n",
    "        for img in os.listdir(path):\n",
    "            img_array = cv.imread(os.path.join(path,img))\n",
    "            test_data.append([img_array,class_label])"
   ]
  },
  {
   "cell_type": "code",
   "execution_count": 59,
   "id": "f2e105f2",
   "metadata": {},
   "outputs": [],
   "source": [
    "create_test_data()"
   ]
  },
  {
   "cell_type": "code",
   "execution_count": 60,
   "id": "31ef561d",
   "metadata": {},
   "outputs": [
    {
     "name": "stdout",
     "output_type": "stream",
     "text": [
      "7067\n"
     ]
    }
   ],
   "source": [
    "print(len(test_data))"
   ]
  },
  {
   "cell_type": "code",
   "execution_count": 61,
   "id": "ed6151c7",
   "metadata": {},
   "outputs": [],
   "source": [
    "random.shuffle(test_data)"
   ]
  },
  {
   "cell_type": "code",
   "execution_count": 62,
   "id": "18433783",
   "metadata": {},
   "outputs": [
    {
     "data": {
      "text/plain": [
       "dtype('uint8')"
      ]
     },
     "execution_count": 62,
     "metadata": {},
     "output_type": "execute_result"
    }
   ],
   "source": [
    "X_test = [] ##feature\n",
    "y_test = [] ##labels\n",
    "\n",
    "for features, label in test_data:\n",
    "    X_test.append(features)\n",
    "    y_test.append(label)\n",
    "\n",
    "X_test = np.array(X_test).reshape(-1,48,48,3)\n",
    "\n",
    "X_test = X_test.astype(np.uint8)\n",
    "X_test.dtype"
   ]
  },
  {
   "cell_type": "code",
   "execution_count": 63,
   "id": "d2824ec0",
   "metadata": {},
   "outputs": [
    {
     "data": {
      "text/plain": [
       "dtype('uint8')"
      ]
     },
     "execution_count": 63,
     "metadata": {},
     "output_type": "execute_result"
    }
   ],
   "source": [
    "y_test = np.array(y_test)\n",
    "y_test = y_test.astype(np.uint8)\n",
    "y_test.dtype"
   ]
  },
  {
   "cell_type": "code",
   "execution_count": 64,
   "id": "1bc14efc",
   "metadata": {},
   "outputs": [
    {
     "data": {
      "text/plain": [
       "array([[[[0.19607843, 0.19607843, 0.19607843],\n",
       "         [0.20392157, 0.20392157, 0.20392157],\n",
       "         [0.20392157, 0.20392157, 0.20392157],\n",
       "         ...,\n",
       "         [0.60784314, 0.60784314, 0.60784314],\n",
       "         [0.58431373, 0.58431373, 0.58431373],\n",
       "         [0.57254902, 0.57254902, 0.57254902]],\n",
       "\n",
       "        [[0.19607843, 0.19607843, 0.19607843],\n",
       "         [0.20784314, 0.20784314, 0.20784314],\n",
       "         [0.21176471, 0.21176471, 0.21176471],\n",
       "         ...,\n",
       "         [0.55686275, 0.55686275, 0.55686275],\n",
       "         [0.58431373, 0.58431373, 0.58431373],\n",
       "         [0.57254902, 0.57254902, 0.57254902]],\n",
       "\n",
       "        [[0.19607843, 0.19607843, 0.19607843],\n",
       "         [0.21176471, 0.21176471, 0.21176471],\n",
       "         [0.21960784, 0.21960784, 0.21960784],\n",
       "         ...,\n",
       "         [0.47058824, 0.47058824, 0.47058824],\n",
       "         [0.59607843, 0.59607843, 0.59607843],\n",
       "         [0.57647059, 0.57647059, 0.57647059]],\n",
       "\n",
       "        ...,\n",
       "\n",
       "        [[0.21960784, 0.21960784, 0.21960784],\n",
       "         [0.22352941, 0.22352941, 0.22352941],\n",
       "         [0.23529412, 0.23529412, 0.23529412],\n",
       "         ...,\n",
       "         [0.64313725, 0.64313725, 0.64313725],\n",
       "         [0.64705882, 0.64705882, 0.64705882],\n",
       "         [0.63529412, 0.63529412, 0.63529412]],\n",
       "\n",
       "        [[0.22352941, 0.22352941, 0.22352941],\n",
       "         [0.21960784, 0.21960784, 0.21960784],\n",
       "         [0.22745098, 0.22745098, 0.22745098],\n",
       "         ...,\n",
       "         [0.64705882, 0.64705882, 0.64705882],\n",
       "         [0.63921569, 0.63921569, 0.63921569],\n",
       "         [0.63921569, 0.63921569, 0.63921569]],\n",
       "\n",
       "        [[0.23529412, 0.23529412, 0.23529412],\n",
       "         [0.21960784, 0.21960784, 0.21960784],\n",
       "         [0.22745098, 0.22745098, 0.22745098],\n",
       "         ...,\n",
       "         [0.64705882, 0.64705882, 0.64705882],\n",
       "         [0.61960784, 0.61960784, 0.61960784],\n",
       "         [0.64313725, 0.64313725, 0.64313725]]],\n",
       "\n",
       "\n",
       "       [[[0.61176471, 0.61176471, 0.61176471],\n",
       "         [0.46666667, 0.46666667, 0.46666667],\n",
       "         [0.47843137, 0.47843137, 0.47843137],\n",
       "         ...,\n",
       "         [0.40784314, 0.40784314, 0.40784314],\n",
       "         [0.36470588, 0.36470588, 0.36470588],\n",
       "         [0.38039216, 0.38039216, 0.38039216]],\n",
       "\n",
       "        [[0.60784314, 0.60784314, 0.60784314],\n",
       "         [0.44705882, 0.44705882, 0.44705882],\n",
       "         [0.45882353, 0.45882353, 0.45882353],\n",
       "         ...,\n",
       "         [0.40784314, 0.40784314, 0.40784314],\n",
       "         [0.36078431, 0.36078431, 0.36078431],\n",
       "         [0.37647059, 0.37647059, 0.37647059]],\n",
       "\n",
       "        [[0.56078431, 0.56078431, 0.56078431],\n",
       "         [0.41176471, 0.41176471, 0.41176471],\n",
       "         [0.45098039, 0.45098039, 0.45098039],\n",
       "         ...,\n",
       "         [0.39607843, 0.39607843, 0.39607843],\n",
       "         [0.36078431, 0.36078431, 0.36078431],\n",
       "         [0.36862745, 0.36862745, 0.36862745]],\n",
       "\n",
       "        ...,\n",
       "\n",
       "        [[0.66666667, 0.66666667, 0.66666667],\n",
       "         [0.68235294, 0.68235294, 0.68235294],\n",
       "         [0.70196078, 0.70196078, 0.70196078],\n",
       "         ...,\n",
       "         [0.77254902, 0.77254902, 0.77254902],\n",
       "         [0.84705882, 0.84705882, 0.84705882],\n",
       "         [0.88627451, 0.88627451, 0.88627451]],\n",
       "\n",
       "        [[0.68235294, 0.68235294, 0.68235294],\n",
       "         [0.69411765, 0.69411765, 0.69411765],\n",
       "         [0.69803922, 0.69803922, 0.69803922],\n",
       "         ...,\n",
       "         [0.6745098 , 0.6745098 , 0.6745098 ],\n",
       "         [0.77647059, 0.77647059, 0.77647059],\n",
       "         [0.82352941, 0.82352941, 0.82352941]],\n",
       "\n",
       "        [[0.68627451, 0.68627451, 0.68627451],\n",
       "         [0.69411765, 0.69411765, 0.69411765],\n",
       "         [0.68627451, 0.68627451, 0.68627451],\n",
       "         ...,\n",
       "         [0.56470588, 0.56470588, 0.56470588],\n",
       "         [0.69019608, 0.69019608, 0.69019608],\n",
       "         [0.78431373, 0.78431373, 0.78431373]]],\n",
       "\n",
       "\n",
       "       [[[0.84313725, 0.84313725, 0.84313725],\n",
       "         [0.86666667, 0.86666667, 0.86666667],\n",
       "         [0.89019608, 0.89019608, 0.89019608],\n",
       "         ...,\n",
       "         [0.30588235, 0.30588235, 0.30588235],\n",
       "         [0.28627451, 0.28627451, 0.28627451],\n",
       "         [0.19215686, 0.19215686, 0.19215686]],\n",
       "\n",
       "        [[0.85490196, 0.85490196, 0.85490196],\n",
       "         [0.85882353, 0.85882353, 0.85882353],\n",
       "         [0.88235294, 0.88235294, 0.88235294],\n",
       "         ...,\n",
       "         [0.22745098, 0.22745098, 0.22745098],\n",
       "         [0.31764706, 0.31764706, 0.31764706],\n",
       "         [0.30196078, 0.30196078, 0.30196078]],\n",
       "\n",
       "        [[0.85490196, 0.85490196, 0.85490196],\n",
       "         [0.8745098 , 0.8745098 , 0.8745098 ],\n",
       "         [0.89803922, 0.89803922, 0.89803922],\n",
       "         ...,\n",
       "         [0.19607843, 0.19607843, 0.19607843],\n",
       "         [0.22745098, 0.22745098, 0.22745098],\n",
       "         [0.34117647, 0.34117647, 0.34117647]],\n",
       "\n",
       "        ...,\n",
       "\n",
       "        [[0.07843137, 0.07843137, 0.07843137],\n",
       "         [0.07058824, 0.07058824, 0.07058824],\n",
       "         [0.09803922, 0.09803922, 0.09803922],\n",
       "         ...,\n",
       "         [0.4745098 , 0.4745098 , 0.4745098 ],\n",
       "         [0.40392157, 0.40392157, 0.40392157],\n",
       "         [0.29803922, 0.29803922, 0.29803922]],\n",
       "\n",
       "        [[0.05098039, 0.05098039, 0.05098039],\n",
       "         [0.10980392, 0.10980392, 0.10980392],\n",
       "         [0.10588235, 0.10588235, 0.10588235],\n",
       "         ...,\n",
       "         [0.45098039, 0.45098039, 0.45098039],\n",
       "         [0.35686275, 0.35686275, 0.35686275],\n",
       "         [0.25098039, 0.25098039, 0.25098039]],\n",
       "\n",
       "        [[0.14117647, 0.14117647, 0.14117647],\n",
       "         [0.17647059, 0.17647059, 0.17647059],\n",
       "         [0.08627451, 0.08627451, 0.08627451],\n",
       "         ...,\n",
       "         [0.41568627, 0.41568627, 0.41568627],\n",
       "         [0.30980392, 0.30980392, 0.30980392],\n",
       "         [0.20784314, 0.20784314, 0.20784314]]],\n",
       "\n",
       "\n",
       "       [[[0.34901961, 0.34901961, 0.34901961],\n",
       "         [0.25882353, 0.25882353, 0.25882353],\n",
       "         [0.29803922, 0.29803922, 0.29803922],\n",
       "         ...,\n",
       "         [0.64313725, 0.64313725, 0.64313725],\n",
       "         [0.65882353, 0.65882353, 0.65882353],\n",
       "         [0.65490196, 0.65490196, 0.65490196]],\n",
       "\n",
       "        [[0.30980392, 0.30980392, 0.30980392],\n",
       "         [0.22352941, 0.22352941, 0.22352941],\n",
       "         [0.3254902 , 0.3254902 , 0.3254902 ],\n",
       "         ...,\n",
       "         [0.7372549 , 0.7372549 , 0.7372549 ],\n",
       "         [0.68235294, 0.68235294, 0.68235294],\n",
       "         [0.69411765, 0.69411765, 0.69411765]],\n",
       "\n",
       "        [[0.26666667, 0.26666667, 0.26666667],\n",
       "         [0.24705882, 0.24705882, 0.24705882],\n",
       "         [0.32941176, 0.32941176, 0.32941176],\n",
       "         ...,\n",
       "         [0.81176471, 0.81176471, 0.81176471],\n",
       "         [0.8       , 0.8       , 0.8       ],\n",
       "         [0.76862745, 0.76862745, 0.76862745]],\n",
       "\n",
       "        ...,\n",
       "\n",
       "        [[0.3372549 , 0.3372549 , 0.3372549 ],\n",
       "         [0.32941176, 0.32941176, 0.32941176],\n",
       "         [0.33333333, 0.33333333, 0.33333333],\n",
       "         ...,\n",
       "         [0.4745098 , 0.4745098 , 0.4745098 ],\n",
       "         [0.30980392, 0.30980392, 0.30980392],\n",
       "         [0.3254902 , 0.3254902 , 0.3254902 ]],\n",
       "\n",
       "        [[0.32156863, 0.32156863, 0.32156863],\n",
       "         [0.36078431, 0.36078431, 0.36078431],\n",
       "         [0.34901961, 0.34901961, 0.34901961],\n",
       "         ...,\n",
       "         [0.3372549 , 0.3372549 , 0.3372549 ],\n",
       "         [0.32156863, 0.32156863, 0.32156863],\n",
       "         [0.30196078, 0.30196078, 0.30196078]],\n",
       "\n",
       "        [[0.32941176, 0.32941176, 0.32941176],\n",
       "         [0.3254902 , 0.3254902 , 0.3254902 ],\n",
       "         [0.32156863, 0.32156863, 0.32156863],\n",
       "         ...,\n",
       "         [0.30196078, 0.30196078, 0.30196078],\n",
       "         [0.32156863, 0.32156863, 0.32156863],\n",
       "         [0.29411765, 0.29411765, 0.29411765]]],\n",
       "\n",
       "\n",
       "       [[[0.96078431, 0.96078431, 0.96078431],\n",
       "         [0.90196078, 0.90196078, 0.90196078],\n",
       "         [0.84313725, 0.84313725, 0.84313725],\n",
       "         ...,\n",
       "         [0.71764706, 0.71764706, 0.71764706],\n",
       "         [0.74901961, 0.74901961, 0.74901961],\n",
       "         [0.87843137, 0.87843137, 0.87843137]],\n",
       "\n",
       "        [[0.96078431, 0.96078431, 0.96078431],\n",
       "         [0.8627451 , 0.8627451 , 0.8627451 ],\n",
       "         [0.83529412, 0.83529412, 0.83529412],\n",
       "         ...,\n",
       "         [0.73333333, 0.73333333, 0.73333333],\n",
       "         [0.67843137, 0.67843137, 0.67843137],\n",
       "         [0.82745098, 0.82745098, 0.82745098]],\n",
       "\n",
       "        [[0.94901961, 0.94901961, 0.94901961],\n",
       "         [0.9254902 , 0.9254902 , 0.9254902 ],\n",
       "         [0.94117647, 0.94117647, 0.94117647],\n",
       "         ...,\n",
       "         [0.71764706, 0.71764706, 0.71764706],\n",
       "         [0.69803922, 0.69803922, 0.69803922],\n",
       "         [0.75686275, 0.75686275, 0.75686275]],\n",
       "\n",
       "        ...,\n",
       "\n",
       "        [[0.92156863, 0.92156863, 0.92156863],\n",
       "         [0.97254902, 0.97254902, 0.97254902],\n",
       "         [0.96470588, 0.96470588, 0.96470588],\n",
       "         ...,\n",
       "         [0.82352941, 0.82352941, 0.82352941],\n",
       "         [0.9254902 , 0.9254902 , 0.9254902 ],\n",
       "         [0.91764706, 0.91764706, 0.91764706]],\n",
       "\n",
       "        [[0.85882353, 0.85882353, 0.85882353],\n",
       "         [0.89019608, 0.89019608, 0.89019608],\n",
       "         [0.96078431, 0.96078431, 0.96078431],\n",
       "         ...,\n",
       "         [0.79215686, 0.79215686, 0.79215686],\n",
       "         [0.92156863, 0.92156863, 0.92156863],\n",
       "         [0.92156863, 0.92156863, 0.92156863]],\n",
       "\n",
       "        [[0.94117647, 0.94117647, 0.94117647],\n",
       "         [0.86666667, 0.86666667, 0.86666667],\n",
       "         [0.95294118, 0.95294118, 0.95294118],\n",
       "         ...,\n",
       "         [0.8627451 , 0.8627451 , 0.8627451 ],\n",
       "         [0.90980392, 0.90980392, 0.90980392],\n",
       "         [0.94509804, 0.94509804, 0.94509804]]]])"
      ]
     },
     "execution_count": 64,
     "metadata": {},
     "output_type": "execute_result"
    }
   ],
   "source": [
    "X_test_rescaled = X_test/255\n",
    "X_test_rescaled[:5]"
   ]
  },
  {
   "cell_type": "code",
   "execution_count": 65,
   "id": "5c60ba42",
   "metadata": {},
   "outputs": [
    {
     "data": {
      "text/plain": [
       "array([3, 2, 1, 4, 2, 5, 4, 4, 2, 4], dtype=uint8)"
      ]
     },
     "execution_count": 65,
     "metadata": {},
     "output_type": "execute_result"
    }
   ],
   "source": [
    "y_test[:10]"
   ]
  },
  {
   "cell_type": "code",
   "execution_count": 66,
   "id": "30fecbc8",
   "metadata": {},
   "outputs": [],
   "source": [
    "y_pred = model.predict(X_test_rescaled)"
   ]
  },
  {
   "cell_type": "code",
   "execution_count": 67,
   "id": "6a56b596",
   "metadata": {},
   "outputs": [],
   "source": [
    "y_pred_final= []\n",
    "for i in range(len(y_pred)):\n",
    "    y_pred_final.append(np.argmax(y_pred[i]))"
   ]
  },
  {
   "cell_type": "code",
   "execution_count": 68,
   "id": "03993ee8",
   "metadata": {
    "scrolled": true
   },
   "outputs": [
    {
     "data": {
      "text/plain": [
       "[3, 2, 1, 4, 5, 0, 4, 4, 2, 4]"
      ]
     },
     "execution_count": 68,
     "metadata": {},
     "output_type": "execute_result"
    }
   ],
   "source": [
    "y_pred_final[:10]"
   ]
  },
  {
   "cell_type": "code",
   "execution_count": 69,
   "id": "efd0adf7",
   "metadata": {},
   "outputs": [],
   "source": [
    "from sklearn.metrics import classification_report\n",
    "from sklearn.metrics import confusion_matrix"
   ]
  },
  {
   "cell_type": "code",
   "execution_count": 70,
   "id": "326c64af",
   "metadata": {
    "scrolled": true
   },
   "outputs": [
    {
     "name": "stdout",
     "output_type": "stream",
     "text": [
      "              precision    recall  f1-score   support\n",
      "\n",
      "           0       0.52      0.53      0.52       958\n",
      "           1       0.55      0.42      0.48      1024\n",
      "           2       0.81      0.81      0.81      1774\n",
      "           3       0.54      0.59      0.56      1233\n",
      "           4       0.47      0.53      0.50      1247\n",
      "           5       0.78      0.75      0.77       831\n",
      "\n",
      "    accuracy                           0.62      7067\n",
      "   macro avg       0.61      0.61      0.61      7067\n",
      "weighted avg       0.62      0.62      0.62      7067\n",
      "\n"
     ]
    }
   ],
   "source": [
    "print(classification_report(y_test,y_pred_final))"
   ]
  },
  {
   "cell_type": "code",
   "execution_count": 71,
   "id": "e6064768",
   "metadata": {},
   "outputs": [
    {
     "data": {
      "text/plain": [
       "Text(69.0, 0.5, 'Truth')"
      ]
     },
     "execution_count": 71,
     "metadata": {},
     "output_type": "execute_result"
    },
    {
     "data": {
      "image/png": "[encoded data removed]",
      "text/plain": [
       "<Figure size 720x504 with 2 Axes>"
      ]
     },
     "metadata": {
      "needs_background": "light"
     },
     "output_type": "display_data"
    }
   ],
   "source": [
    "import seaborn as sn\n",
    "cm = tf.math.confusion_matrix(labels=y_test, predictions=y_pred_final)\n",
    "\n",
    "plt.figure(figsize=(10, 7))\n",
    "sn.heatmap(cm, annot=True, fmt='d')\n",
    "plt.xlabel('Predicted')\n",
    "plt.ylabel('Truth')"
   ]
  }
 ],
 "metadata": {
  "kernelspec": {
   "display_name": "Python 3",
   "language": "python",
   "name": "python3"
  },
  "language_info": {
   "codemirror_mode": {
    "name": "ipython",
    "version": 3
   },
   "file_extension": ".py",
   "mimetype": "text/x-python",
   "name": "python",
   "nbconvert_exporter": "python",
   "pygments_lexer": "ipython3",
   "version": "3.8.8"
  }
 },
 "nbformat": 4,
 "nbformat_minor": 5
}
