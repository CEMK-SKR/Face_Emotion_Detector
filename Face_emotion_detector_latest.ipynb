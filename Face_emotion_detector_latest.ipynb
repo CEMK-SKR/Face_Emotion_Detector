{
 "cells": [
  {
   "cell_type": "code",
   "execution_count": 2,
   "id": "1dc73a55",
   "metadata": {},
   "outputs": [
    {
     "name": "stdout",
     "output_type": "stream",
     "text": [
      "Requirement already satisfied: opencv-python in f:\\anaconda\\lib\\site-packages (4.5.3.56)\n",
      "Requirement already satisfied: numpy>=1.17.3 in f:\\anaconda\\lib\\site-packages (from opencv-python) (1.19.5)\n",
      "Requirement already satisfied: tensorflow in f:\\anaconda\\lib\\site-packages (2.5.0)\n",
      "Requirement already satisfied: google-pasta~=0.2 in f:\\anaconda\\lib\\site-packages (from tensorflow) (0.2.0)\n",
      "Requirement already satisfied: tensorboard~=2.5 in f:\\anaconda\\lib\\site-packages (from tensorflow) (2.5.0)\n",
      "Requirement already satisfied: grpcio~=1.34.0 in f:\\anaconda\\lib\\site-packages (from tensorflow) (1.34.1)\n",
      "Requirement already satisfied: gast==0.4.0 in f:\\anaconda\\lib\\site-packages (from tensorflow) (0.4.0)\n",
      "Requirement already satisfied: opt-einsum~=3.3.0 in f:\\anaconda\\lib\\site-packages (from tensorflow) (3.3.0)\n",
      "Requirement already satisfied: wheel~=0.35 in f:\\anaconda\\lib\\site-packages (from tensorflow) (0.36.2)\n",
      "Requirement already satisfied: numpy~=1.19.2 in f:\\anaconda\\lib\\site-packages (from tensorflow) (1.19.5)\n",
      "Requirement already satisfied: tensorflow-estimator<2.6.0,>=2.5.0rc0 in f:\\anaconda\\lib\\site-packages (from tensorflow) (2.5.0)\n",
      "Requirement already satisfied: flatbuffers~=1.12.0 in f:\\anaconda\\lib\\site-packages (from tensorflow) (1.12)\n",
      "Requirement already satisfied: keras-preprocessing~=1.1.2 in f:\\anaconda\\lib\\site-packages (from tensorflow) (1.1.2)\n",
      "Requirement already satisfied: absl-py~=0.10 in f:\\anaconda\\lib\\site-packages (from tensorflow) (0.13.0)\n",
      "Requirement already satisfied: termcolor~=1.1.0 in f:\\anaconda\\lib\\site-packages (from tensorflow) (1.1.0)\n",
      "Requirement already satisfied: h5py~=3.1.0 in f:\\anaconda\\lib\\site-packages (from tensorflow) (3.1.0)\n",
      "Requirement already satisfied: six~=1.15.0 in f:\\anaconda\\lib\\site-packages (from tensorflow) (1.15.0)\n",
      "Requirement already satisfied: keras-nightly~=2.5.0.dev in f:\\anaconda\\lib\\site-packages (from tensorflow) (2.5.0.dev2021032900)\n",
      "Requirement already satisfied: protobuf>=3.9.2 in f:\\anaconda\\lib\\site-packages (from tensorflow) (3.17.3)\n",
      "Requirement already satisfied: wrapt~=1.12.1 in f:\\anaconda\\lib\\site-packages (from tensorflow) (1.12.1)\n",
      "Requirement already satisfied: typing-extensions~=3.7.4 in f:\\anaconda\\lib\\site-packages (from tensorflow) (3.7.4.3)\n",
      "Requirement already satisfied: astunparse~=1.6.3 in f:\\anaconda\\lib\\site-packages (from tensorflow) (1.6.3)\n",
      "Requirement already satisfied: google-auth-oauthlib<0.5,>=0.4.1 in f:\\anaconda\\lib\\site-packages (from tensorboard~=2.5->tensorflow) (0.4.4)\n",
      "Requirement already satisfied: requests<3,>=2.21.0 in f:\\anaconda\\lib\\site-packages (from tensorboard~=2.5->tensorflow) (2.25.1)\n",
      "Requirement already satisfied: tensorboard-data-server<0.7.0,>=0.6.0 in f:\\anaconda\\lib\\site-packages (from tensorboard~=2.5->tensorflow) (0.6.1)\n",
      "Requirement already satisfied: markdown>=2.6.8 in f:\\anaconda\\lib\\site-packages (from tensorboard~=2.5->tensorflow) (3.3.4)\n",
      "Requirement already satisfied: setuptools>=41.0.0 in f:\\anaconda\\lib\\site-packages (from tensorboard~=2.5->tensorflow) (52.0.0.post20210125)\n",
      "Requirement already satisfied: werkzeug>=0.11.15 in f:\\anaconda\\lib\\site-packages (from tensorboard~=2.5->tensorflow) (1.0.1)\n",
      "Requirement already satisfied: google-auth<2,>=1.6.3 in f:\\anaconda\\lib\\site-packages (from tensorboard~=2.5->tensorflow) (1.33.0)\n",
      "Requirement already satisfied: tensorboard-plugin-wit>=1.6.0 in f:\\anaconda\\lib\\site-packages (from tensorboard~=2.5->tensorflow) (1.8.0)\n",
      "Requirement already satisfied: cachetools<5.0,>=2.0.0 in f:\\anaconda\\lib\\site-packages (from google-auth<2,>=1.6.3->tensorboard~=2.5->tensorflow) (4.2.2)\n",
      "Requirement already satisfied: rsa<5,>=3.1.4 in f:\\anaconda\\lib\\site-packages (from google-auth<2,>=1.6.3->tensorboard~=2.5->tensorflow) (4.7.2)\n",
      "Requirement already satisfied: pyasn1-modules>=0.2.1 in f:\\anaconda\\lib\\site-packages (from google-auth<2,>=1.6.3->tensorboard~=2.5->tensorflow) (0.2.8)\n",
      "Requirement already satisfied: requests-oauthlib>=0.7.0 in f:\\anaconda\\lib\\site-packages (from google-auth-oauthlib<0.5,>=0.4.1->tensorboard~=2.5->tensorflow) (1.3.0)\n",
      "Requirement already satisfied: pyasn1<0.5.0,>=0.4.6 in f:\\anaconda\\lib\\site-packages (from pyasn1-modules>=0.2.1->google-auth<2,>=1.6.3->tensorboard~=2.5->tensorflow) (0.4.8)\n",
      "Requirement already satisfied: chardet<5,>=3.0.2 in f:\\anaconda\\lib\\site-packages (from requests<3,>=2.21.0->tensorboard~=2.5->tensorflow) (4.0.0)\n",
      "Requirement already satisfied: idna<3,>=2.5 in f:\\anaconda\\lib\\site-packages (from requests<3,>=2.21.0->tensorboard~=2.5->tensorflow) (2.10)\n",
      "Requirement already satisfied: certifi>=2017.4.17 in f:\\anaconda\\lib\\site-packages (from requests<3,>=2.21.0->tensorboard~=2.5->tensorflow) (2020.12.5)\n",
      "Requirement already satisfied: urllib3<1.27,>=1.21.1 in f:\\anaconda\\lib\\site-packages (from requests<3,>=2.21.0->tensorboard~=2.5->tensorflow) (1.26.4)\n",
      "Requirement already satisfied: oauthlib>=3.0.0 in f:\\anaconda\\lib\\site-packages (from requests-oauthlib>=0.7.0->google-auth-oauthlib<0.5,>=0.4.1->tensorboard~=2.5->tensorflow) (3.1.1)\n",
      "Requirement already satisfied: imblearn in f:\\anaconda\\lib\\site-packages (0.0)\n",
      "Requirement already satisfied: imbalanced-learn in f:\\anaconda\\lib\\site-packages (from imblearn) (0.8.0)\n",
      "Requirement already satisfied: joblib>=0.11 in f:\\anaconda\\lib\\site-packages (from imbalanced-learn->imblearn) (1.0.1)\n",
      "Requirement already satisfied: scipy>=0.19.1 in f:\\anaconda\\lib\\site-packages (from imbalanced-learn->imblearn) (1.6.2)\n",
      "Requirement already satisfied: scikit-learn>=0.24 in f:\\anaconda\\lib\\site-packages (from imbalanced-learn->imblearn) (0.24.1)\n",
      "Requirement already satisfied: numpy>=1.13.3 in f:\\anaconda\\lib\\site-packages (from imbalanced-learn->imblearn) (1.19.5)\n",
      "Requirement already satisfied: threadpoolctl>=2.0.0 in f:\\anaconda\\lib\\site-packages (from scikit-learn>=0.24->imbalanced-learn->imblearn) (2.1.0)\n"
     ]
    }
   ],
   "source": [
    "!pip install opencv-python\n",
    "!pip install tensorflow\n",
    "!pip install imblearn"
   ]
  },
  {
   "cell_type": "code",
   "execution_count": 3,
   "id": "e1ad77d7",
   "metadata": {},
   "outputs": [],
   "source": [
    "import numpy as np\n",
    "import cv2 as cv\n",
    "import os\n",
    "import matplotlib.pyplot as plt\n",
    "import tensorflow as tf"
   ]
  },
  {
   "cell_type": "markdown",
   "id": "534806c3",
   "metadata": {},
   "source": [
    "### set the labels"
   ]
  },
  {
   "cell_type": "code",
   "execution_count": 4,
   "id": "df064e57",
   "metadata": {},
   "outputs": [],
   "source": [
    "emotions = [\"angry\",\"fear\",\"happy\",\"neutral\",\"sad\",\"surprise\"]"
   ]
  },
  {
   "cell_type": "markdown",
   "id": "10104209",
   "metadata": {},
   "source": [
    "#### path for training data"
   ]
  },
  {
   "cell_type": "code",
   "execution_count": 5,
   "id": "1bc98de2",
   "metadata": {},
   "outputs": [],
   "source": [
    "dataset_dir = \"./train\""
   ]
  },
  {
   "cell_type": "markdown",
   "id": "39c990d9",
   "metadata": {},
   "source": [
    "### visualizing the data"
   ]
  },
  {
   "cell_type": "code",
   "execution_count": 6,
   "id": "886b3f61",
   "metadata": {
    "scrolled": true
   },
   "outputs": [
    {
     "data": {
      "image/png": "[encoded data removed]",
      "text/plain": [
       "<Figure size 432x288 with 1 Axes>"
      ]
     },
     "metadata": {
      "needs_background": "light"
     },
     "output_type": "display_data"
    },
    {
     "data": {
      "image/png": "[encoded data removed]",
      "text/plain": [
       "<Figure size 432x288 with 1 Axes>"
      ]
     },
     "metadata": {
      "needs_background": "light"
     },
     "output_type": "display_data"
    },
    {
     "data": {
      "image/png": "[encoded data removed]",
      "text/plain": [
       "<Figure size 432x288 with 1 Axes>"
      ]
     },
     "metadata": {
      "needs_background": "light"
     },
     "output_type": "display_data"
    },
    {
     "data": {
      "image/png": "[encoded data removed]",
      "text/plain": [
       "<Figure size 432x288 with 1 Axes>"
      ]
     },
     "metadata": {
      "needs_background": "light"
     },
     "output_type": "display_data"
    },
    {
     "data": {
      "image/png": "[encoded data removed]",
      "text/plain": [
       "<Figure size 432x288 with 1 Axes>"
      ]
     },
     "metadata": {
      "needs_background": "light"
     },
     "output_type": "display_data"
    },
    {
     "data": {
      "image/png": "[encoded data removed]",
      "text/plain": [
       "<Figure size 432x288 with 1 Axes>"
      ]
     },
     "metadata": {
      "needs_background": "light"
     },
     "output_type": "display_data"
    }
   ],
   "source": [
    "for emotion in emotions:\n",
    "    path = os.path.join(dataset_dir,emotion)\n",
    "    for img in os.listdir(path):\n",
    "        img_array = cv.imread(os.path.join(path,img))\n",
    "        plt.imshow(cv.cvtColor(img_array,cv.COLOR_BGR2RGB))\n",
    "        plt.title(emotion, fontsize=15)\n",
    "        plt.show()\n",
    "        break        "
   ]
  },
  {
   "cell_type": "markdown",
   "id": "75d3e08b",
   "metadata": {},
   "source": [
    "## read through all the images and converting them to array"
   ]
  },
  {
   "cell_type": "code",
   "execution_count": 7,
   "id": "9ca6c6f6",
   "metadata": {},
   "outputs": [],
   "source": [
    "training_data = []\n",
    "\n",
    "def create_training_data():\n",
    "    for emotion in emotions:\n",
    "        path = os.path.join(dataset_dir,emotion)\n",
    "        class_label = emotions.index(emotion)\n",
    "        for img in os.listdir(path):\n",
    "            img_array = cv.imread(os.path.join(path,img))\n",
    "            training_data.append([img_array,class_label])\n",
    "            "
   ]
  },
  {
   "cell_type": "code",
   "execution_count": 8,
   "id": "8d06ffa6",
   "metadata": {},
   "outputs": [],
   "source": [
    "create_training_data()"
   ]
  },
  {
   "cell_type": "code",
   "execution_count": 9,
   "id": "79acec6f",
   "metadata": {
    "scrolled": true
   },
   "outputs": [
    {
     "name": "stdout",
     "output_type": "stream",
     "text": [
      "28273\n"
     ]
    }
   ],
   "source": [
    "print(len(training_data))"
   ]
  },
  {
   "cell_type": "code",
   "execution_count": 10,
   "id": "959becc3",
   "metadata": {},
   "outputs": [],
   "source": [
    "import random\n",
    "random.shuffle(training_data)"
   ]
  },
  {
   "cell_type": "markdown",
   "id": "fb88fdf8",
   "metadata": {},
   "source": [
    "### Creating the features and labels"
   ]
  },
  {
   "cell_type": "code",
   "execution_count": 11,
   "id": "c33b6c15",
   "metadata": {},
   "outputs": [],
   "source": [
    "X = [] ##feature\n",
    "y = [] ##labels\n",
    "\n",
    "for features, label in training_data:\n",
    "    X.append(features)\n",
    "    y.append(label)\n",
    "\n",
    "X = np.array(X).reshape(-1,48,48,3)"
   ]
  },
  {
   "cell_type": "markdown",
   "id": "3ce938db",
   "metadata": {},
   "source": [
    "### Preprocessing"
   ]
  },
  {
   "cell_type": "code",
   "execution_count": 12,
   "id": "7389cd77",
   "metadata": {},
   "outputs": [
    {
     "data": {
      "text/plain": [
       "(28273, 48, 48, 3)"
      ]
     },
     "execution_count": 12,
     "metadata": {},
     "output_type": "execute_result"
    }
   ],
   "source": [
    "X.shape"
   ]
  },
  {
   "cell_type": "code",
   "execution_count": 13,
   "id": "165c5bfa",
   "metadata": {
    "scrolled": true
   },
   "outputs": [
    {
     "data": {
      "text/plain": [
       "dtype('uint8')"
      ]
     },
     "execution_count": 13,
     "metadata": {},
     "output_type": "execute_result"
    }
   ],
   "source": [
    "X = X.astype(np.uint8)\n",
    "X.dtype"
   ]
  },
  {
   "cell_type": "code",
   "execution_count": 14,
   "id": "64d75060",
   "metadata": {
    "scrolled": false
   },
   "outputs": [
    {
     "data": {
      "text/plain": [
       "28273"
      ]
     },
     "execution_count": 14,
     "metadata": {},
     "output_type": "execute_result"
    }
   ],
   "source": [
    "len(y)"
   ]
  },
  {
   "cell_type": "code",
   "execution_count": 15,
   "id": "77242fdd",
   "metadata": {},
   "outputs": [],
   "source": [
    "y = np.array(y)"
   ]
  },
  {
   "cell_type": "code",
   "execution_count": 16,
   "id": "b6ef2822",
   "metadata": {},
   "outputs": [
    {
     "data": {
      "text/plain": [
       "dtype('uint8')"
      ]
     },
     "execution_count": 16,
     "metadata": {},
     "output_type": "execute_result"
    }
   ],
   "source": [
    "y = y.astype(np.uint8)\n",
    "y.dtype"
   ]
  },
  {
   "cell_type": "code",
   "execution_count": 17,
   "id": "7dab5ca1",
   "metadata": {},
   "outputs": [
    {
     "data": {
      "text/plain": [
       "array([2, 4, 2, 0, 2], dtype=uint8)"
      ]
     },
     "execution_count": 17,
     "metadata": {},
     "output_type": "execute_result"
    }
   ],
   "source": [
    "y[:5]"
   ]
  },
  {
   "cell_type": "code",
   "execution_count": 18,
   "id": "f9cabf2f",
   "metadata": {
    "scrolled": true
   },
   "outputs": [
    {
     "data": {
      "text/plain": [
       "array([[[[0.90588235, 0.90588235, 0.90588235],\n",
       "         [0.7372549 , 0.7372549 , 0.7372549 ],\n",
       "         [0.66666667, 0.66666667, 0.66666667],\n",
       "         ...,\n",
       "         [0.70196078, 0.70196078, 0.70196078],\n",
       "         [0.9254902 , 0.9254902 , 0.9254902 ],\n",
       "         [0.88627451, 0.88627451, 0.88627451]],\n",
       "\n",
       "        [[0.89803922, 0.89803922, 0.89803922],\n",
       "         [0.70980392, 0.70980392, 0.70980392],\n",
       "         [0.64705882, 0.64705882, 0.64705882],\n",
       "         ...,\n",
       "         [0.68627451, 0.68627451, 0.68627451],\n",
       "         [0.90980392, 0.90980392, 0.90980392],\n",
       "         [0.89803922, 0.89803922, 0.89803922]],\n",
       "\n",
       "        [[0.90980392, 0.90980392, 0.90980392],\n",
       "         [0.70588235, 0.70588235, 0.70588235],\n",
       "         [0.65098039, 0.65098039, 0.65098039],\n",
       "         ...,\n",
       "         [0.67843137, 0.67843137, 0.67843137],\n",
       "         [0.89803922, 0.89803922, 0.89803922],\n",
       "         [0.89803922, 0.89803922, 0.89803922]],\n",
       "\n",
       "        ...,\n",
       "\n",
       "        [[0.85098039, 0.85098039, 0.85098039],\n",
       "         [0.82745098, 0.82745098, 0.82745098],\n",
       "         [0.81960784, 0.81960784, 0.81960784],\n",
       "         ...,\n",
       "         [0.57647059, 0.57647059, 0.57647059],\n",
       "         [0.63137255, 0.63137255, 0.63137255],\n",
       "         [0.64313725, 0.64313725, 0.64313725]],\n",
       "\n",
       "        [[0.81568627, 0.81568627, 0.81568627],\n",
       "         [0.80784314, 0.80784314, 0.80784314],\n",
       "         [0.80392157, 0.80392157, 0.80392157],\n",
       "         ...,\n",
       "         [0.57647059, 0.57647059, 0.57647059],\n",
       "         [0.60784314, 0.60784314, 0.60784314],\n",
       "         [0.62352941, 0.62352941, 0.62352941]],\n",
       "\n",
       "        [[0.81176471, 0.81176471, 0.81176471],\n",
       "         [0.78823529, 0.78823529, 0.78823529],\n",
       "         [0.77647059, 0.77647059, 0.77647059],\n",
       "         ...,\n",
       "         [0.57254902, 0.57254902, 0.57254902],\n",
       "         [0.59607843, 0.59607843, 0.59607843],\n",
       "         [0.62352941, 0.62352941, 0.62352941]]],\n",
       "\n",
       "\n",
       "       [[[0.22745098, 0.22745098, 0.22745098],\n",
       "         [0.21568627, 0.21568627, 0.21568627],\n",
       "         [0.22352941, 0.22352941, 0.22352941],\n",
       "         ...,\n",
       "         [0.28627451, 0.28627451, 0.28627451],\n",
       "         [0.41960784, 0.41960784, 0.41960784],\n",
       "         [0.55294118, 0.55294118, 0.55294118]],\n",
       "\n",
       "        [[0.21568627, 0.21568627, 0.21568627],\n",
       "         [0.20392157, 0.20392157, 0.20392157],\n",
       "         [0.2745098 , 0.2745098 , 0.2745098 ],\n",
       "         ...,\n",
       "         [0.24705882, 0.24705882, 0.24705882],\n",
       "         [0.33333333, 0.33333333, 0.33333333],\n",
       "         [0.45490196, 0.45490196, 0.45490196]],\n",
       "\n",
       "        [[0.22352941, 0.22352941, 0.22352941],\n",
       "         [0.21176471, 0.21176471, 0.21176471],\n",
       "         [0.28627451, 0.28627451, 0.28627451],\n",
       "         ...,\n",
       "         [0.22745098, 0.22745098, 0.22745098],\n",
       "         [0.27058824, 0.27058824, 0.27058824],\n",
       "         [0.41176471, 0.41176471, 0.41176471]],\n",
       "\n",
       "        ...,\n",
       "\n",
       "        [[0.83137255, 0.83137255, 0.83137255],\n",
       "         [0.85490196, 0.85490196, 0.85490196],\n",
       "         [0.86666667, 0.86666667, 0.86666667],\n",
       "         ...,\n",
       "         [0.89803922, 0.89803922, 0.89803922],\n",
       "         [0.89803922, 0.89803922, 0.89803922],\n",
       "         [0.91764706, 0.91764706, 0.91764706]],\n",
       "\n",
       "        [[0.83137255, 0.83137255, 0.83137255],\n",
       "         [0.85098039, 0.85098039, 0.85098039],\n",
       "         [0.85098039, 0.85098039, 0.85098039],\n",
       "         ...,\n",
       "         [0.89411765, 0.89411765, 0.89411765],\n",
       "         [0.89019608, 0.89019608, 0.89019608],\n",
       "         [0.90588235, 0.90588235, 0.90588235]],\n",
       "\n",
       "        [[0.85098039, 0.85098039, 0.85098039],\n",
       "         [0.85098039, 0.85098039, 0.85098039],\n",
       "         [0.85882353, 0.85882353, 0.85882353],\n",
       "         ...,\n",
       "         [0.90196078, 0.90196078, 0.90196078],\n",
       "         [0.90196078, 0.90196078, 0.90196078],\n",
       "         [0.89803922, 0.89803922, 0.89803922]]],\n",
       "\n",
       "\n",
       "       [[[0.31372549, 0.31372549, 0.31372549],\n",
       "         [0.3254902 , 0.3254902 , 0.3254902 ],\n",
       "         [0.29803922, 0.29803922, 0.29803922],\n",
       "         ...,\n",
       "         [0.0745098 , 0.0745098 , 0.0745098 ],\n",
       "         [0.07843137, 0.07843137, 0.07843137],\n",
       "         [0.08235294, 0.08235294, 0.08235294]],\n",
       "\n",
       "        [[0.30588235, 0.30588235, 0.30588235],\n",
       "         [0.33333333, 0.33333333, 0.33333333],\n",
       "         [0.21960784, 0.21960784, 0.21960784],\n",
       "         ...,\n",
       "         [0.07058824, 0.07058824, 0.07058824],\n",
       "         [0.08627451, 0.08627451, 0.08627451],\n",
       "         [0.07058824, 0.07058824, 0.07058824]],\n",
       "\n",
       "        [[0.29019608, 0.29019608, 0.29019608],\n",
       "         [0.25098039, 0.25098039, 0.25098039],\n",
       "         [0.16862745, 0.16862745, 0.16862745],\n",
       "         ...,\n",
       "         [0.0627451 , 0.0627451 , 0.0627451 ],\n",
       "         [0.08235294, 0.08235294, 0.08235294],\n",
       "         [0.06666667, 0.06666667, 0.06666667]],\n",
       "\n",
       "        ...,\n",
       "\n",
       "        [[0.11372549, 0.11372549, 0.11372549],\n",
       "         [0.10980392, 0.10980392, 0.10980392],\n",
       "         [0.04313725, 0.04313725, 0.04313725],\n",
       "         ...,\n",
       "         [0.00392157, 0.00392157, 0.00392157],\n",
       "         [0.00784314, 0.00784314, 0.00784314],\n",
       "         [0.        , 0.        , 0.        ]],\n",
       "\n",
       "        [[0.10196078, 0.10196078, 0.10196078],\n",
       "         [0.13333333, 0.13333333, 0.13333333],\n",
       "         [0.0627451 , 0.0627451 , 0.0627451 ],\n",
       "         ...,\n",
       "         [0.01568627, 0.01568627, 0.01568627],\n",
       "         [0.00392157, 0.00392157, 0.00392157],\n",
       "         [0.00392157, 0.00392157, 0.00392157]],\n",
       "\n",
       "        [[0.14509804, 0.14509804, 0.14509804],\n",
       "         [0.17647059, 0.17647059, 0.17647059],\n",
       "         [0.12156863, 0.12156863, 0.12156863],\n",
       "         ...,\n",
       "         [0.02745098, 0.02745098, 0.02745098],\n",
       "         [0.        , 0.        , 0.        ],\n",
       "         [0.01176471, 0.01176471, 0.01176471]]],\n",
       "\n",
       "\n",
       "       [[[0.32156863, 0.32156863, 0.32156863],\n",
       "         [0.35294118, 0.35294118, 0.35294118],\n",
       "         [0.35686275, 0.35686275, 0.35686275],\n",
       "         ...,\n",
       "         [0.70980392, 0.70980392, 0.70980392],\n",
       "         [0.7254902 , 0.7254902 , 0.7254902 ],\n",
       "         [0.7372549 , 0.7372549 , 0.7372549 ]],\n",
       "\n",
       "        [[0.33333333, 0.33333333, 0.33333333],\n",
       "         [0.34901961, 0.34901961, 0.34901961],\n",
       "         [0.34117647, 0.34117647, 0.34117647],\n",
       "         ...,\n",
       "         [0.66666667, 0.66666667, 0.66666667],\n",
       "         [0.74117647, 0.74117647, 0.74117647],\n",
       "         [0.74117647, 0.74117647, 0.74117647]],\n",
       "\n",
       "        [[0.30588235, 0.30588235, 0.30588235],\n",
       "         [0.34117647, 0.34117647, 0.34117647],\n",
       "         [0.35686275, 0.35686275, 0.35686275],\n",
       "         ...,\n",
       "         [0.64313725, 0.64313725, 0.64313725],\n",
       "         [0.72156863, 0.72156863, 0.72156863],\n",
       "         [0.7254902 , 0.7254902 , 0.7254902 ]],\n",
       "\n",
       "        ...,\n",
       "\n",
       "        [[0.1254902 , 0.1254902 , 0.1254902 ],\n",
       "         [0.03529412, 0.03529412, 0.03529412],\n",
       "         [0.        , 0.        , 0.        ],\n",
       "         ...,\n",
       "         [0.11764706, 0.11764706, 0.11764706],\n",
       "         [0.10588235, 0.10588235, 0.10588235],\n",
       "         [0.11372549, 0.11372549, 0.11372549]],\n",
       "\n",
       "        [[0.14901961, 0.14901961, 0.14901961],\n",
       "         [0.05490196, 0.05490196, 0.05490196],\n",
       "         [0.00784314, 0.00784314, 0.00784314],\n",
       "         ...,\n",
       "         [0.14901961, 0.14901961, 0.14901961],\n",
       "         [0.1372549 , 0.1372549 , 0.1372549 ],\n",
       "         [0.1254902 , 0.1254902 , 0.1254902 ]],\n",
       "\n",
       "        [[0.15294118, 0.15294118, 0.15294118],\n",
       "         [0.04705882, 0.04705882, 0.04705882],\n",
       "         [0.00392157, 0.00392157, 0.00392157],\n",
       "         ...,\n",
       "         [0.16862745, 0.16862745, 0.16862745],\n",
       "         [0.15686275, 0.15686275, 0.15686275],\n",
       "         [0.14117647, 0.14117647, 0.14117647]]],\n",
       "\n",
       "\n",
       "       [[[0.36078431, 0.36078431, 0.36078431],\n",
       "         [0.40392157, 0.40392157, 0.40392157],\n",
       "         [0.42745098, 0.42745098, 0.42745098],\n",
       "         ...,\n",
       "         [0.30196078, 0.30196078, 0.30196078],\n",
       "         [0.25882353, 0.25882353, 0.25882353],\n",
       "         [0.18039216, 0.18039216, 0.18039216]],\n",
       "\n",
       "        [[0.40784314, 0.40784314, 0.40784314],\n",
       "         [0.4       , 0.4       , 0.4       ],\n",
       "         [0.36862745, 0.36862745, 0.36862745],\n",
       "         ...,\n",
       "         [0.2627451 , 0.2627451 , 0.2627451 ],\n",
       "         [0.26666667, 0.26666667, 0.26666667],\n",
       "         [0.23529412, 0.23529412, 0.23529412]],\n",
       "\n",
       "        [[0.30196078, 0.30196078, 0.30196078],\n",
       "         [0.33333333, 0.33333333, 0.33333333],\n",
       "         [0.43529412, 0.43529412, 0.43529412],\n",
       "         ...,\n",
       "         [0.2745098 , 0.2745098 , 0.2745098 ],\n",
       "         [0.26666667, 0.26666667, 0.26666667],\n",
       "         [0.28627451, 0.28627451, 0.28627451]],\n",
       "\n",
       "        ...,\n",
       "\n",
       "        [[0.16470588, 0.16470588, 0.16470588],\n",
       "         [0.30196078, 0.30196078, 0.30196078],\n",
       "         [0.1254902 , 0.1254902 , 0.1254902 ],\n",
       "         ...,\n",
       "         [0.3372549 , 0.3372549 , 0.3372549 ],\n",
       "         [0.34901961, 0.34901961, 0.34901961],\n",
       "         [0.23529412, 0.23529412, 0.23529412]],\n",
       "\n",
       "        [[0.37647059, 0.37647059, 0.37647059],\n",
       "         [0.34901961, 0.34901961, 0.34901961],\n",
       "         [0.14901961, 0.14901961, 0.14901961],\n",
       "         ...,\n",
       "         [0.2745098 , 0.2745098 , 0.2745098 ],\n",
       "         [0.25490196, 0.25490196, 0.25490196],\n",
       "         [0.26666667, 0.26666667, 0.26666667]],\n",
       "\n",
       "        [[0.43921569, 0.43921569, 0.43921569],\n",
       "         [0.3372549 , 0.3372549 , 0.3372549 ],\n",
       "         [0.21960784, 0.21960784, 0.21960784],\n",
       "         ...,\n",
       "         [0.2745098 , 0.2745098 , 0.2745098 ],\n",
       "         [0.24313725, 0.24313725, 0.24313725],\n",
       "         [0.29019608, 0.29019608, 0.29019608]]]])"
      ]
     },
     "execution_count": 18,
     "metadata": {},
     "output_type": "execute_result"
    }
   ],
   "source": [
    "X_rescaled = X/255\n",
    "X_rescaled[:5]"
   ]
  },
  {
   "cell_type": "markdown",
   "id": "66dc8ddc",
   "metadata": {},
   "source": [
    "## Model Creation and Training"
   ]
  },
  {
   "cell_type": "code",
   "execution_count": 19,
   "id": "2d1c5b67",
   "metadata": {},
   "outputs": [],
   "source": [
    "from tensorflow import keras"
   ]
  },
  {
   "cell_type": "code",
   "execution_count": 20,
   "id": "8379f7bd",
   "metadata": {
    "scrolled": true
   },
   "outputs": [
    {
     "name": "stdout",
     "output_type": "stream",
     "text": [
      "Epoch 1/50\n",
      "884/884 [==============================] - 12s 10ms/step - loss: 1.5969 - accuracy: 0.3560\n",
      "Epoch 2/50\n",
      "884/884 [==============================] - 8s 9ms/step - loss: 1.3374 - accuracy: 0.4734\n",
      "Epoch 3/50\n",
      "884/884 [==============================] - 8s 9ms/step - loss: 1.2032 - accuracy: 0.5352\n",
      "Epoch 4/50\n",
      "884/884 [==============================] - 8s 9ms/step - loss: 1.1226 - accuracy: 0.5676\n",
      "Epoch 5/50\n",
      "884/884 [==============================] - 8s 9ms/step - loss: 1.0484 - accuracy: 0.5980\n",
      "Epoch 6/50\n",
      "884/884 [==============================] - 8s 9ms/step - loss: 0.9856 - accuracy: 0.6263\n",
      "Epoch 7/50\n",
      "884/884 [==============================] - 8s 9ms/step - loss: 0.9306 - accuracy: 0.6479\n",
      "Epoch 8/50\n",
      "884/884 [==============================] - 8s 9ms/step - loss: 0.8646 - accuracy: 0.6762\n",
      "Epoch 9/50\n",
      "884/884 [==============================] - 8s 9ms/step - loss: 0.8149 - accuracy: 0.6939\n",
      "Epoch 10/50\n",
      "884/884 [==============================] - 8s 9ms/step - loss: 0.7557 - accuracy: 0.7204\n",
      "Epoch 11/50\n",
      "884/884 [==============================] - 8s 9ms/step - loss: 0.7082 - accuracy: 0.7360\n",
      "Epoch 12/50\n",
      "884/884 [==============================] - 8s 9ms/step - loss: 0.6738 - accuracy: 0.7479\n",
      "Epoch 13/50\n",
      "884/884 [==============================] - 8s 9ms/step - loss: 0.6311 - accuracy: 0.7659\n",
      "Epoch 14/50\n",
      "884/884 [==============================] - 8s 9ms/step - loss: 0.5955 - accuracy: 0.7812\n",
      "Epoch 15/50\n",
      "884/884 [==============================] - 8s 9ms/step - loss: 0.5735 - accuracy: 0.7859\n",
      "Epoch 16/50\n",
      "884/884 [==============================] - 8s 9ms/step - loss: 0.5422 - accuracy: 0.8012\n",
      "Epoch 17/50\n",
      "884/884 [==============================] - 8s 9ms/step - loss: 0.5147 - accuracy: 0.8113\n",
      "Epoch 18/50\n",
      "884/884 [==============================] - 8s 9ms/step - loss: 0.4941 - accuracy: 0.8228\n",
      "Epoch 19/50\n",
      "884/884 [==============================] - 8s 9ms/step - loss: 0.4760 - accuracy: 0.8270\n",
      "Epoch 20/50\n",
      "884/884 [==============================] - 8s 9ms/step - loss: 0.4504 - accuracy: 0.8358\n",
      "Epoch 21/50\n",
      "884/884 [==============================] - 8s 9ms/step - loss: 0.4376 - accuracy: 0.8391\n",
      "Epoch 22/50\n",
      "884/884 [==============================] - 8s 9ms/step - loss: 0.4162 - accuracy: 0.8519\n",
      "Epoch 23/50\n",
      "884/884 [==============================] - 8s 9ms/step - loss: 0.4160 - accuracy: 0.8483\n",
      "Epoch 24/50\n",
      "884/884 [==============================] - 8s 9ms/step - loss: 0.3956 - accuracy: 0.8567\n",
      "Epoch 25/50\n",
      "884/884 [==============================] - 8s 9ms/step - loss: 0.3912 - accuracy: 0.8577\n",
      "Epoch 26/50\n",
      "884/884 [==============================] - 8s 9ms/step - loss: 0.3714 - accuracy: 0.8656\n",
      "Epoch 27/50\n",
      "884/884 [==============================] - 8s 9ms/step - loss: 0.3565 - accuracy: 0.8710\n",
      "Epoch 28/50\n",
      "884/884 [==============================] - 8s 9ms/step - loss: 0.3473 - accuracy: 0.8723\n",
      "Epoch 29/50\n",
      "884/884 [==============================] - 8s 10ms/step - loss: 0.3453 - accuracy: 0.8750\n",
      "Epoch 30/50\n",
      "884/884 [==============================] - 9s 10ms/step - loss: 0.3282 - accuracy: 0.8800\n",
      "Epoch 31/50\n",
      "884/884 [==============================] - 9s 10ms/step - loss: 0.3224 - accuracy: 0.8857\n",
      "Epoch 32/50\n",
      "884/884 [==============================] - 9s 10ms/step - loss: 0.3186 - accuracy: 0.8867\n",
      "Epoch 33/50\n",
      "884/884 [==============================] - 8s 9ms/step - loss: 0.3061 - accuracy: 0.8896\n",
      "Epoch 34/50\n",
      "884/884 [==============================] - 8s 9ms/step - loss: 0.3032 - accuracy: 0.8918\n",
      "Epoch 35/50\n",
      "884/884 [==============================] - 8s 9ms/step - loss: 0.2930 - accuracy: 0.8961\n",
      "Epoch 36/50\n",
      "884/884 [==============================] - 8s 9ms/step - loss: 0.2870 - accuracy: 0.8973\n",
      "Epoch 37/50\n",
      "884/884 [==============================] - 8s 9ms/step - loss: 0.2865 - accuracy: 0.8966\n",
      "Epoch 38/50\n",
      "884/884 [==============================] - 8s 9ms/step - loss: 0.2772 - accuracy: 0.9011\n",
      "Epoch 39/50\n",
      "884/884 [==============================] - 8s 9ms/step - loss: 0.2691 - accuracy: 0.9036\n",
      "Epoch 40/50\n",
      "884/884 [==============================] - 8s 9ms/step - loss: 0.2584 - accuracy: 0.9093\n",
      "Epoch 41/50\n",
      "884/884 [==============================] - 8s 10ms/step - loss: 0.2541 - accuracy: 0.9113\n",
      "Epoch 42/50\n",
      "884/884 [==============================] - 8s 9ms/step - loss: 0.2553 - accuracy: 0.9087\n",
      "Epoch 43/50\n",
      "884/884 [==============================] - 8s 9ms/step - loss: 0.2451 - accuracy: 0.9129\n",
      "Epoch 44/50\n",
      "884/884 [==============================] - 8s 9ms/step - loss: 0.2451 - accuracy: 0.9135\n",
      "Epoch 45/50\n",
      "884/884 [==============================] - 8s 9ms/step - loss: 0.2423 - accuracy: 0.9148\n",
      "Epoch 46/50\n",
      "884/884 [==============================] - 8s 9ms/step - loss: 0.2336 - accuracy: 0.9165\n",
      "Epoch 47/50\n",
      "884/884 [==============================] - 8s 9ms/step - loss: 0.2350 - accuracy: 0.9171\n",
      "Epoch 48/50\n",
      "884/884 [==============================] - 8s 10ms/step - loss: 0.2264 - accuracy: 0.9191\n",
      "Epoch 49/50\n",
      "884/884 [==============================] - 8s 10ms/step - loss: 0.2259 - accuracy: 0.9201\n",
      "Epoch 50/50\n",
      "884/884 [==============================] - 8s 9ms/step - loss: 0.2217 - accuracy: 0.9231\n"
     ]
    },
    {
     "data": {
      "text/plain": [
       "<tensorflow.python.keras.callbacks.History at 0x20d0da40790>"
      ]
     },
     "execution_count": 20,
     "metadata": {},
     "output_type": "execute_result"
    }
   ],
   "source": [
    "model = keras.Sequential([\n",
    "    keras.layers.Conv2D(32, (3,3),activation='relu', padding='same',input_shape=(48, 48,3)),\n",
    "    keras.layers.Conv2D(32, (3,3),activation='relu', padding='same'),\n",
    "    keras.layers.MaxPooling2D((2, 2)),\n",
    "    keras.layers.Dropout(0.25),\n",
    "    keras.layers.BatchNormalization(),\n",
    "    \n",
    "    keras.layers.Conv2D(64, (5,5),activation='relu',padding='same'),\n",
    "    keras.layers.MaxPooling2D((2, 2)),\n",
    "    keras.layers.Dropout(0.25),\n",
    "    keras.layers.BatchNormalization(),\n",
    "    \n",
    "    keras.layers.Conv2D(128, (5,5),activation='relu',padding='same'),\n",
    "    keras.layers.MaxPooling2D((2, 2)),\n",
    "    keras.layers.Dropout(0.25),\n",
    "    keras.layers.BatchNormalization(),\n",
    "\n",
    "    keras.layers.Flatten(),\n",
    "    keras.layers.Dense(128, activation='relu'),\n",
    "    keras.layers.Dense(len(emotions), activation='softmax')\n",
    "])\n",
    "\n",
    "model.compile(optimizer='adam',\n",
    "             loss = 'sparse_categorical_crossentropy',\n",
    "             metrics='accuracy')\n",
    "\n",
    "model.fit(X_rescaled,y,epochs=50)"
   ]
  },
  {
   "cell_type": "markdown",
   "id": "6c962588",
   "metadata": {},
   "source": [
    "## Creating Test Dataset"
   ]
  },
  {
   "cell_type": "code",
   "execution_count": 21,
   "id": "845068c5",
   "metadata": {},
   "outputs": [],
   "source": [
    "dataset_test_dir = \"./test\""
   ]
  },
  {
   "cell_type": "code",
   "execution_count": 22,
   "id": "62536581",
   "metadata": {},
   "outputs": [],
   "source": [
    "test_data = []\n",
    "\n",
    "def create_test_data():\n",
    "    for emotion in emotions:\n",
    "        path = os.path.join(dataset_test_dir,emotion)\n",
    "        class_label = emotions.index(emotion)\n",
    "        for img in os.listdir(path):\n",
    "            img_array = cv.imread(os.path.join(path,img))\n",
    "            test_data.append([img_array,class_label])"
   ]
  },
  {
   "cell_type": "code",
   "execution_count": 23,
   "id": "f2e105f2",
   "metadata": {},
   "outputs": [],
   "source": [
    "create_test_data()"
   ]
  },
  {
   "cell_type": "code",
   "execution_count": 24,
   "id": "31ef561d",
   "metadata": {},
   "outputs": [
    {
     "name": "stdout",
     "output_type": "stream",
     "text": [
      "7067\n"
     ]
    }
   ],
   "source": [
    "print(len(test_data))"
   ]
  },
  {
   "cell_type": "code",
   "execution_count": 25,
   "id": "ed6151c7",
   "metadata": {},
   "outputs": [],
   "source": [
    "random.shuffle(test_data)"
   ]
  },
  {
   "cell_type": "code",
   "execution_count": 26,
   "id": "18433783",
   "metadata": {},
   "outputs": [
    {
     "data": {
      "text/plain": [
       "dtype('uint8')"
      ]
     },
     "execution_count": 26,
     "metadata": {},
     "output_type": "execute_result"
    }
   ],
   "source": [
    "X_test = [] ##feature\n",
    "y_test = [] ##labels\n",
    "\n",
    "for features, label in test_data:\n",
    "    X_test.append(features)\n",
    "    y_test.append(label)\n",
    "\n",
    "X_test = np.array(X_test).reshape(-1,48,48,3)\n",
    "\n",
    "X_test = X_test.astype(np.uint8)\n",
    "X_test.dtype"
   ]
  },
  {
   "cell_type": "code",
   "execution_count": 27,
   "id": "d2824ec0",
   "metadata": {},
   "outputs": [
    {
     "data": {
      "text/plain": [
       "dtype('uint8')"
      ]
     },
     "execution_count": 27,
     "metadata": {},
     "output_type": "execute_result"
    }
   ],
   "source": [
    "y_test = np.array(y_test)\n",
    "y_test = y_test.astype(np.uint8)\n",
    "y_test.dtype"
   ]
  },
  {
   "cell_type": "code",
   "execution_count": 28,
   "id": "1bc14efc",
   "metadata": {},
   "outputs": [
    {
     "data": {
      "text/plain": [
       "array([[[[0.56862745, 0.56862745, 0.56862745],\n",
       "         [0.59607843, 0.59607843, 0.59607843],\n",
       "         [0.38823529, 0.38823529, 0.38823529],\n",
       "         ...,\n",
       "         [0.11764706, 0.11764706, 0.11764706],\n",
       "         [0.17647059, 0.17647059, 0.17647059],\n",
       "         [0.25490196, 0.25490196, 0.25490196]],\n",
       "\n",
       "        [[0.56078431, 0.56078431, 0.56078431],\n",
       "         [0.58823529, 0.58823529, 0.58823529],\n",
       "         [0.51372549, 0.51372549, 0.51372549],\n",
       "         ...,\n",
       "         [0.1254902 , 0.1254902 , 0.1254902 ],\n",
       "         [0.14117647, 0.14117647, 0.14117647],\n",
       "         [0.18039216, 0.18039216, 0.18039216]],\n",
       "\n",
       "        [[0.56470588, 0.56470588, 0.56470588],\n",
       "         [0.57647059, 0.57647059, 0.57647059],\n",
       "         [0.56078431, 0.56078431, 0.56078431],\n",
       "         ...,\n",
       "         [0.12156863, 0.12156863, 0.12156863],\n",
       "         [0.1254902 , 0.1254902 , 0.1254902 ],\n",
       "         [0.15686275, 0.15686275, 0.15686275]],\n",
       "\n",
       "        ...,\n",
       "\n",
       "        [[0.59607843, 0.59607843, 0.59607843],\n",
       "         [0.58039216, 0.58039216, 0.58039216],\n",
       "         [0.57254902, 0.57254902, 0.57254902],\n",
       "         ...,\n",
       "         [0.61960784, 0.61960784, 0.61960784],\n",
       "         [0.61960784, 0.61960784, 0.61960784],\n",
       "         [0.61960784, 0.61960784, 0.61960784]],\n",
       "\n",
       "        [[0.59607843, 0.59607843, 0.59607843],\n",
       "         [0.58039216, 0.58039216, 0.58039216],\n",
       "         [0.56470588, 0.56470588, 0.56470588],\n",
       "         ...,\n",
       "         [0.61960784, 0.61960784, 0.61960784],\n",
       "         [0.62352941, 0.62352941, 0.62352941],\n",
       "         [0.61960784, 0.61960784, 0.61960784]],\n",
       "\n",
       "        [[0.58823529, 0.58823529, 0.58823529],\n",
       "         [0.57647059, 0.57647059, 0.57647059],\n",
       "         [0.55686275, 0.55686275, 0.55686275],\n",
       "         ...,\n",
       "         [0.62745098, 0.62745098, 0.62745098],\n",
       "         [0.62352941, 0.62352941, 0.62352941],\n",
       "         [0.63137255, 0.63137255, 0.63137255]]],\n",
       "\n",
       "\n",
       "       [[[0.16862745, 0.16862745, 0.16862745],\n",
       "         [0.16862745, 0.16862745, 0.16862745],\n",
       "         [0.16862745, 0.16862745, 0.16862745],\n",
       "         ...,\n",
       "         [0.21568627, 0.21568627, 0.21568627],\n",
       "         [0.16470588, 0.16470588, 0.16470588],\n",
       "         [0.17254902, 0.17254902, 0.17254902]],\n",
       "\n",
       "        [[0.16862745, 0.16862745, 0.16862745],\n",
       "         [0.16862745, 0.16862745, 0.16862745],\n",
       "         [0.16862745, 0.16862745, 0.16862745],\n",
       "         ...,\n",
       "         [0.27058824, 0.27058824, 0.27058824],\n",
       "         [0.16862745, 0.16862745, 0.16862745],\n",
       "         [0.16078431, 0.16078431, 0.16078431]],\n",
       "\n",
       "        [[0.16862745, 0.16862745, 0.16862745],\n",
       "         [0.16862745, 0.16862745, 0.16862745],\n",
       "         [0.16862745, 0.16862745, 0.16862745],\n",
       "         ...,\n",
       "         [0.18431373, 0.18431373, 0.18431373],\n",
       "         [0.15686275, 0.15686275, 0.15686275],\n",
       "         [0.17647059, 0.17647059, 0.17647059]],\n",
       "\n",
       "        ...,\n",
       "\n",
       "        [[0.29803922, 0.29803922, 0.29803922],\n",
       "         [0.30588235, 0.30588235, 0.30588235],\n",
       "         [0.29803922, 0.29803922, 0.29803922],\n",
       "         ...,\n",
       "         [0.16470588, 0.16470588, 0.16470588],\n",
       "         [0.18039216, 0.18039216, 0.18039216],\n",
       "         [0.15686275, 0.15686275, 0.15686275]],\n",
       "\n",
       "        [[0.29803922, 0.29803922, 0.29803922],\n",
       "         [0.30196078, 0.30196078, 0.30196078],\n",
       "         [0.29411765, 0.29411765, 0.29411765],\n",
       "         ...,\n",
       "         [0.17647059, 0.17647059, 0.17647059],\n",
       "         [0.17254902, 0.17254902, 0.17254902],\n",
       "         [0.16078431, 0.16078431, 0.16078431]],\n",
       "\n",
       "        [[0.30588235, 0.30588235, 0.30588235],\n",
       "         [0.30196078, 0.30196078, 0.30196078],\n",
       "         [0.29411765, 0.29411765, 0.29411765],\n",
       "         ...,\n",
       "         [0.16862745, 0.16862745, 0.16862745],\n",
       "         [0.16470588, 0.16470588, 0.16470588],\n",
       "         [0.17647059, 0.17647059, 0.17647059]]],\n",
       "\n",
       "\n",
       "       [[[0.62745098, 0.62745098, 0.62745098],\n",
       "         [0.63137255, 0.63137255, 0.63137255],\n",
       "         [0.58823529, 0.58823529, 0.58823529],\n",
       "         ...,\n",
       "         [0.59215686, 0.59215686, 0.59215686],\n",
       "         [0.59215686, 0.59215686, 0.59215686],\n",
       "         [0.57647059, 0.57647059, 0.57647059]],\n",
       "\n",
       "        [[0.63529412, 0.63529412, 0.63529412],\n",
       "         [0.60784314, 0.60784314, 0.60784314],\n",
       "         [0.57647059, 0.57647059, 0.57647059],\n",
       "         ...,\n",
       "         [0.61176471, 0.61176471, 0.61176471],\n",
       "         [0.59215686, 0.59215686, 0.59215686],\n",
       "         [0.58039216, 0.58039216, 0.58039216]],\n",
       "\n",
       "        [[0.63921569, 0.63921569, 0.63921569],\n",
       "         [0.58823529, 0.58823529, 0.58823529],\n",
       "         [0.58823529, 0.58823529, 0.58823529],\n",
       "         ...,\n",
       "         [0.60392157, 0.60392157, 0.60392157],\n",
       "         [0.58823529, 0.58823529, 0.58823529],\n",
       "         [0.59607843, 0.59607843, 0.59607843]],\n",
       "\n",
       "        ...,\n",
       "\n",
       "        [[0.59215686, 0.59215686, 0.59215686],\n",
       "         [0.58823529, 0.58823529, 0.58823529],\n",
       "         [0.58823529, 0.58823529, 0.58823529],\n",
       "         ...,\n",
       "         [0.48627451, 0.48627451, 0.48627451],\n",
       "         [0.48235294, 0.48235294, 0.48235294],\n",
       "         [0.47843137, 0.47843137, 0.47843137]],\n",
       "\n",
       "        [[0.59607843, 0.59607843, 0.59607843],\n",
       "         [0.57647059, 0.57647059, 0.57647059],\n",
       "         [0.6       , 0.6       , 0.6       ],\n",
       "         ...,\n",
       "         [0.48235294, 0.48235294, 0.48235294],\n",
       "         [0.48235294, 0.48235294, 0.48235294],\n",
       "         [0.4745098 , 0.4745098 , 0.4745098 ]],\n",
       "\n",
       "        [[0.59215686, 0.59215686, 0.59215686],\n",
       "         [0.59607843, 0.59607843, 0.59607843],\n",
       "         [0.60392157, 0.60392157, 0.60392157],\n",
       "         ...,\n",
       "         [0.48235294, 0.48235294, 0.48235294],\n",
       "         [0.47843137, 0.47843137, 0.47843137],\n",
       "         [0.4745098 , 0.4745098 , 0.4745098 ]]],\n",
       "\n",
       "\n",
       "       [[[0.33333333, 0.33333333, 0.33333333],\n",
       "         [0.33333333, 0.33333333, 0.33333333],\n",
       "         [0.29411765, 0.29411765, 0.29411765],\n",
       "         ...,\n",
       "         [0.2745098 , 0.2745098 , 0.2745098 ],\n",
       "         [0.25098039, 0.25098039, 0.25098039],\n",
       "         [0.23137255, 0.23137255, 0.23137255]],\n",
       "\n",
       "        [[0.34901961, 0.34901961, 0.34901961],\n",
       "         [0.30980392, 0.30980392, 0.30980392],\n",
       "         [0.2627451 , 0.2627451 , 0.2627451 ],\n",
       "         ...,\n",
       "         [0.30588235, 0.30588235, 0.30588235],\n",
       "         [0.27058824, 0.27058824, 0.27058824],\n",
       "         [0.24313725, 0.24313725, 0.24313725]],\n",
       "\n",
       "        [[0.31372549, 0.31372549, 0.31372549],\n",
       "         [0.25098039, 0.25098039, 0.25098039],\n",
       "         [0.23921569, 0.23921569, 0.23921569],\n",
       "         ...,\n",
       "         [0.25882353, 0.25882353, 0.25882353],\n",
       "         [0.31764706, 0.31764706, 0.31764706],\n",
       "         [0.24705882, 0.24705882, 0.24705882]],\n",
       "\n",
       "        ...,\n",
       "\n",
       "        [[0.20784314, 0.20784314, 0.20784314],\n",
       "         [0.2       , 0.2       , 0.2       ],\n",
       "         [0.14117647, 0.14117647, 0.14117647],\n",
       "         ...,\n",
       "         [0.76862745, 0.76862745, 0.76862745],\n",
       "         [0.54901961, 0.54901961, 0.54901961],\n",
       "         [0.27058824, 0.27058824, 0.27058824]],\n",
       "\n",
       "        [[0.24705882, 0.24705882, 0.24705882],\n",
       "         [0.19607843, 0.19607843, 0.19607843],\n",
       "         [0.26666667, 0.26666667, 0.26666667],\n",
       "         ...,\n",
       "         [0.58823529, 0.58823529, 0.58823529],\n",
       "         [0.31372549, 0.31372549, 0.31372549],\n",
       "         [0.18823529, 0.18823529, 0.18823529]],\n",
       "\n",
       "        [[0.28235294, 0.28235294, 0.28235294],\n",
       "         [0.31372549, 0.31372549, 0.31372549],\n",
       "         [0.49019608, 0.49019608, 0.49019608],\n",
       "         ...,\n",
       "         [0.28627451, 0.28627451, 0.28627451],\n",
       "         [0.18431373, 0.18431373, 0.18431373],\n",
       "         [0.21568627, 0.21568627, 0.21568627]]],\n",
       "\n",
       "\n",
       "       [[[0.57647059, 0.57647059, 0.57647059],\n",
       "         [0.51764706, 0.51764706, 0.51764706],\n",
       "         [0.55294118, 0.55294118, 0.55294118],\n",
       "         ...,\n",
       "         [0.67843137, 0.67843137, 0.67843137],\n",
       "         [0.71372549, 0.71372549, 0.71372549],\n",
       "         [0.74509804, 0.74509804, 0.74509804]],\n",
       "\n",
       "        [[0.59215686, 0.59215686, 0.59215686],\n",
       "         [0.52156863, 0.52156863, 0.52156863],\n",
       "         [0.55294118, 0.55294118, 0.55294118],\n",
       "         ...,\n",
       "         [0.63137255, 0.63137255, 0.63137255],\n",
       "         [0.6745098 , 0.6745098 , 0.6745098 ],\n",
       "         [0.70196078, 0.70196078, 0.70196078]],\n",
       "\n",
       "        [[0.54117647, 0.54117647, 0.54117647],\n",
       "         [0.58039216, 0.58039216, 0.58039216],\n",
       "         [0.55294118, 0.55294118, 0.55294118],\n",
       "         ...,\n",
       "         [0.59607843, 0.59607843, 0.59607843],\n",
       "         [0.62352941, 0.62352941, 0.62352941],\n",
       "         [0.67058824, 0.67058824, 0.67058824]],\n",
       "\n",
       "        ...,\n",
       "\n",
       "        [[0.42352941, 0.42352941, 0.42352941],\n",
       "         [0.41568627, 0.41568627, 0.41568627],\n",
       "         [0.41568627, 0.41568627, 0.41568627],\n",
       "         ...,\n",
       "         [0.60784314, 0.60784314, 0.60784314],\n",
       "         [0.61176471, 0.61176471, 0.61176471],\n",
       "         [0.61568627, 0.61568627, 0.61568627]],\n",
       "\n",
       "        [[0.42745098, 0.42745098, 0.42745098],\n",
       "         [0.41960784, 0.41960784, 0.41960784],\n",
       "         [0.42352941, 0.42352941, 0.42352941],\n",
       "         ...,\n",
       "         [0.61568627, 0.61568627, 0.61568627],\n",
       "         [0.61568627, 0.61568627, 0.61568627],\n",
       "         [0.62352941, 0.62352941, 0.62352941]],\n",
       "\n",
       "        [[0.42745098, 0.42745098, 0.42745098],\n",
       "         [0.42352941, 0.42352941, 0.42352941],\n",
       "         [0.42745098, 0.42745098, 0.42745098],\n",
       "         ...,\n",
       "         [0.63137255, 0.63137255, 0.63137255],\n",
       "         [0.62745098, 0.62745098, 0.62745098],\n",
       "         [0.63921569, 0.63921569, 0.63921569]]]])"
      ]
     },
     "execution_count": 28,
     "metadata": {},
     "output_type": "execute_result"
    }
   ],
   "source": [
    "X_test_rescaled = X_test/255\n",
    "X_test_rescaled[:5]"
   ]
  },
  {
   "cell_type": "code",
   "execution_count": 29,
   "id": "5c60ba42",
   "metadata": {},
   "outputs": [
    {
     "data": {
      "text/plain": [
       "array([1, 3, 3, 2, 1, 0, 2, 2, 4, 2], dtype=uint8)"
      ]
     },
     "execution_count": 29,
     "metadata": {},
     "output_type": "execute_result"
    }
   ],
   "source": [
    "y_test[:10]"
   ]
  },
  {
   "cell_type": "code",
   "execution_count": 30,
   "id": "30fecbc8",
   "metadata": {},
   "outputs": [],
   "source": [
    "y_pred = model.predict(X_test_rescaled)"
   ]
  },
  {
   "cell_type": "code",
   "execution_count": 31,
   "id": "6a56b596",
   "metadata": {},
   "outputs": [],
   "source": [
    "y_pred_final= []\n",
    "for i in range(len(y_pred)):\n",
    "    y_pred_final.append(np.argmax(y_pred[i]))"
   ]
  },
  {
   "cell_type": "code",
   "execution_count": 32,
   "id": "03993ee8",
   "metadata": {
    "scrolled": true
   },
   "outputs": [
    {
     "data": {
      "text/plain": [
       "[3, 0, 3, 2, 4, 0, 3, 0, 4, 2]"
      ]
     },
     "execution_count": 32,
     "metadata": {},
     "output_type": "execute_result"
    }
   ],
   "source": [
    "y_pred_final[:10]"
   ]
  },
  {
   "cell_type": "code",
   "execution_count": 33,
   "id": "efd0adf7",
   "metadata": {},
   "outputs": [],
   "source": [
    "from sklearn.metrics import classification_report\n",
    "from sklearn.metrics import confusion_matrix"
   ]
  },
  {
   "cell_type": "markdown",
   "id": "fb9bb2c2",
   "metadata": {},
   "source": [
    "### Print Classification Report and Confusion Matrix"
   ]
  },
  {
   "cell_type": "code",
   "execution_count": 34,
   "id": "326c64af",
   "metadata": {
    "scrolled": true
   },
   "outputs": [
    {
     "name": "stdout",
     "output_type": "stream",
     "text": [
      "              precision    recall  f1-score   support\n",
      "\n",
      "           0       0.54      0.50      0.52       958\n",
      "           1       0.49      0.44      0.46      1024\n",
      "           2       0.81      0.83      0.82      1774\n",
      "           3       0.55      0.59      0.57      1233\n",
      "           4       0.49      0.52      0.50      1247\n",
      "           5       0.79      0.76      0.78       831\n",
      "\n",
      "    accuracy                           0.62      7067\n",
      "   macro avg       0.61      0.61      0.61      7067\n",
      "weighted avg       0.62      0.62      0.62      7067\n",
      "\n"
     ]
    }
   ],
   "source": [
    "print(classification_report(y_test,y_pred_final))"
   ]
  },
  {
   "cell_type": "code",
   "execution_count": 35,
   "id": "e6064768",
   "metadata": {
    "scrolled": true
   },
   "outputs": [
    {
     "data": {
      "text/plain": [
       "Text(69.0, 0.5, 'Truth')"
      ]
     },
     "execution_count": 35,
     "metadata": {},
     "output_type": "execute_result"
    },
    {
     "data": {
      "image/png": "[encoded data removed]",
      "text/plain": [
       "<Figure size 720x504 with 2 Axes>"
      ]
     },
     "metadata": {
      "needs_background": "light"
     },
     "output_type": "display_data"
    }
   ],
   "source": [
    "import seaborn as sn\n",
    "cm = tf.math.confusion_matrix(labels=y_test, predictions=y_pred_final)\n",
    "\n",
    "plt.figure(figsize=(10, 7))\n",
    "sn.heatmap(cm, annot=True, fmt='d')\n",
    "plt.xlabel('Predicted')\n",
    "plt.ylabel('Truth')"
   ]
  },
  {
   "cell_type": "markdown",
   "id": "38a0ea09",
   "metadata": {},
   "source": [
    "## Save the Model"
   ]
  },
  {
   "cell_type": "code",
   "execution_count": 41,
   "id": "0e1e442d",
   "metadata": {},
   "outputs": [],
   "source": [
    "if os.path.isfile('./face_detector_model.h5') is False:\n",
    "    model.save('./face_detector_model.h5')"
   ]
  },
  {
   "cell_type": "code",
   "execution_count": 42,
   "id": "b427104d",
   "metadata": {},
   "outputs": [],
   "source": [
    "from tensorflow.keras.models import load_model\n",
    "new_model = load_model('./face_detector_model.h5')"
   ]
  },
  {
   "cell_type": "code",
   "execution_count": 43,
   "id": "eec02da9",
   "metadata": {},
   "outputs": [
    {
     "name": "stdout",
     "output_type": "stream",
     "text": [
      "Model: \"sequential\"\n",
      "_________________________________________________________________\n",
      "Layer (type)                 Output Shape              Param #   \n",
      "=================================================================\n",
      "conv2d (Conv2D)              (None, 48, 48, 32)        896       \n",
      "_________________________________________________________________\n",
      "conv2d_1 (Conv2D)            (None, 48, 48, 32)        9248      \n",
      "_________________________________________________________________\n",
      "max_pooling2d (MaxPooling2D) (None, 24, 24, 32)        0         \n",
      "_________________________________________________________________\n",
      "dropout (Dropout)            (None, 24, 24, 32)        0         \n",
      "_________________________________________________________________\n",
      "batch_normalization (BatchNo (None, 24, 24, 32)        128       \n",
      "_________________________________________________________________\n",
      "conv2d_2 (Conv2D)            (None, 24, 24, 64)        51264     \n",
      "_________________________________________________________________\n",
      "max_pooling2d_1 (MaxPooling2 (None, 12, 12, 64)        0         \n",
      "_________________________________________________________________\n",
      "dropout_1 (Dropout)          (None, 12, 12, 64)        0         \n",
      "_________________________________________________________________\n",
      "batch_normalization_1 (Batch (None, 12, 12, 64)        256       \n",
      "_________________________________________________________________\n",
      "conv2d_3 (Conv2D)            (None, 12, 12, 128)       204928    \n",
      "_________________________________________________________________\n",
      "max_pooling2d_2 (MaxPooling2 (None, 6, 6, 128)         0         \n",
      "_________________________________________________________________\n",
      "dropout_2 (Dropout)          (None, 6, 6, 128)         0         \n",
      "_________________________________________________________________\n",
      "batch_normalization_2 (Batch (None, 6, 6, 128)         512       \n",
      "_________________________________________________________________\n",
      "flatten (Flatten)            (None, 4608)              0         \n",
      "_________________________________________________________________\n",
      "dense (Dense)                (None, 128)               589952    \n",
      "_________________________________________________________________\n",
      "dense_1 (Dense)              (None, 6)                 774       \n",
      "=================================================================\n",
      "Total params: 857,958\n",
      "Trainable params: 857,510\n",
      "Non-trainable params: 448\n",
      "_________________________________________________________________\n"
     ]
    }
   ],
   "source": [
    "new_model.summary()"
   ]
  }
 ],
 "metadata": {
  "kernelspec": {
   "display_name": "Python 3",
   "language": "python",
   "name": "python3"
  },
  "language_info": {
   "codemirror_mode": {
    "name": "ipython",
    "version": 3
   },
   "file_extension": ".py",
   "mimetype": "text/x-python",
   "name": "python",
   "nbconvert_exporter": "python",
   "pygments_lexer": "ipython3",
   "version": "3.8.8"
  }
 },
 "nbformat": 4,
 "nbformat_minor": 5
}
